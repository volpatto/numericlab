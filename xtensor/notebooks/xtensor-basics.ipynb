{
 "cells": [
  {
   "cell_type": "markdown",
   "metadata": {},
   "source": [
    "# `xtensor` basics features\n",
    "\n",
    "A brief overview of xtensor basic usage. Most of the examples are provided by the [official documentation](https://xtensor.readthedocs.io/en/latest/)."
   ]
  },
  {
   "cell_type": "markdown",
   "metadata": {},
   "source": [
    "Including the necessary libs:"
   ]
  },
  {
   "cell_type": "code",
   "execution_count": 1,
   "metadata": {},
   "outputs": [],
   "source": [
    "#include <iostream>\n",
    "#include <typeinfo>\n",
    "\n",
    "#include \"xtensor/xarray.hpp\"\n",
    "#include \"xtensor/xio.hpp\"  // this one is necessary for a proper display in notebooks\n",
    "#include \"xtensor/xview.hpp\"\n",
    "#include \"xtensor/xmath.hpp\""
   ]
  },
  {
   "cell_type": "markdown",
   "metadata": {},
   "source": [
    "## Basic `xarray` manipulations"
   ]
  },
  {
   "cell_type": "markdown",
   "metadata": {},
   "source": [
    "Declaring arrays:"
   ]
  },
  {
   "cell_type": "code",
   "execution_count": 2,
   "metadata": {},
   "outputs": [],
   "source": [
    "xt::xarray<double> arr1 {\n",
    "    {1, 2, 3},\n",
    "    {2, 5, 7},\n",
    "    {2, 5, 7}\n",
    "};"
   ]
  },
  {
   "cell_type": "code",
   "execution_count": 3,
   "metadata": {},
   "outputs": [
    {
     "data": {
      "text/html": [
       "<table style='border-style:solid;border-width:1px;'><tbody><tr><td style='font-family:monospace;' title='(0, 0)'><pre> 1.</pre></td><td style='font-family:monospace;' title='(0, 1)'><pre> 2.</pre></td><td style='font-family:monospace;' title='(0, 2)'><pre> 3.</pre></td></tr><tr><td style='font-family:monospace;' title='(1, 0)'><pre> 2.</pre></td><td style='font-family:monospace;' title='(1, 1)'><pre> 5.</pre></td><td style='font-family:monospace;' title='(1, 2)'><pre> 7.</pre></td></tr><tr><td style='font-family:monospace;' title='(2, 0)'><pre> 2.</pre></td><td style='font-family:monospace;' title='(2, 1)'><pre> 5.</pre></td><td style='font-family:monospace;' title='(2, 2)'><pre> 7.</pre></td></tr></tbody></table>"
      ]
     },
     "execution_count": 3,
     "metadata": {},
     "output_type": "execute_result"
    }
   ],
   "source": [
    "arr1"
   ]
  },
  {
   "cell_type": "code",
   "execution_count": 4,
   "metadata": {},
   "outputs": [],
   "source": [
    "xt::xarray<double> arr2{\n",
    "    {5, 6, 7}\n",
    "};"
   ]
  },
  {
   "cell_type": "markdown",
   "metadata": {},
   "source": [
    "Below we perform a sum of the second line from `arr1` with `arr2`:"
   ]
  },
  {
   "cell_type": "code",
   "execution_count": 5,
   "metadata": {},
   "outputs": [
    {
     "name": "stdout",
     "output_type": "stream",
     "text": [
      "{{  7.,  11.,  14.}}\n"
     ]
    }
   ],
   "source": [
    "xt::xarray<double> result = xt::view(arr1, 1) + arr2;\n",
    "\n",
    "std::cout << result << std::endl;"
   ]
  },
  {
   "cell_type": "markdown",
   "metadata": {},
   "source": [
    "Be aware about the use of views. C++ `rvalues` are temporary, so the combination with `xexpression`s could be dangerous:"
   ]
  },
  {
   "cell_type": "code",
   "execution_count": 6,
   "metadata": {},
   "outputs": [
    {
     "name": "stdout",
     "output_type": "stream",
     "text": [
      "{{ 7.,  8.,  9.}}\n"
     ]
    }
   ],
   "source": [
    "auto result_2 = xt::view(arr1, 1) + arr2;\n",
    "\n",
    "std::cout << result_2 << std::endl;"
   ]
  },
  {
   "cell_type": "markdown",
   "metadata": {},
   "source": [
    "This occurs because `result_2` is not a `xarray<T>` object! It's inferred as `xexpression` (which does not hold any value):"
   ]
  },
  {
   "cell_type": "code",
   "execution_count": 7,
   "metadata": {},
   "outputs": [
    {
     "name": "stdout",
     "output_type": "stream",
     "text": [
      "N2xt9xfunctionINS_6detail4plusEJNS_5xviewIRNS_16xarray_containerINS_7uvectorIdSaIdEEELNS_11layout_typeE1ENS_7svectorImLm4ESaImELb1EEENS_22xtensor_expression_tagEEEJiEEERKSD_EEE"
     ]
    }
   ],
   "source": [
    "std::cout << typeid(result_2).name();"
   ]
  },
  {
   "cell_type": "markdown",
   "metadata": {},
   "source": [
    "So it doesn't work as one must expected because it avoids evaluation at intermediate results. A proper way to fix it could be:"
   ]
  },
  {
   "cell_type": "code",
   "execution_count": 8,
   "metadata": {},
   "outputs": [
    {
     "name": "stdout",
     "output_type": "stream",
     "text": [
      "{{  7.,  11.,  14.}}\n"
     ]
    }
   ],
   "source": [
    "xt::xarray<double> arr1_1 = xt::view(arr1, 1);\n",
    "auto result_3 = arr1_1 + arr2;\n",
    "\n",
    "std::cout << result_3 << std::endl;"
   ]
  },
  {
   "cell_type": "markdown",
   "metadata": {},
   "source": [
    "Another interesting thing we can do is reshaping. Let's declare another array. Now, an array with integer entries (note the Template input):"
   ]
  },
  {
   "cell_type": "code",
   "execution_count": 9,
   "metadata": {},
   "outputs": [],
   "source": [
    "xt::xarray<int> arr3 {\n",
    "    {1, 2, 3, 4, 5, 6, 7, 8, 9}\n",
    "};"
   ]
  },
  {
   "cell_type": "markdown",
   "metadata": {},
   "source": [
    "`xt::array<T>` has a convenience method for reshaping, which is used as follows:"
   ]
  },
  {
   "cell_type": "code",
   "execution_count": 10,
   "metadata": {},
   "outputs": [
    {
     "name": "stdout",
     "output_type": "stream",
     "text": [
      "{{1, 2, 3},\n",
      " {4, 5, 6},\n",
      " {7, 8, 9}}"
     ]
    }
   ],
   "source": [
    "arr3.reshape({3, 3});\n",
    "\n",
    "std::cout << arr3;"
   ]
  },
  {
   "cell_type": "markdown",
   "metadata": {},
   "source": [
    "It is very similar to `numpy.ndarray` counterpart. Note that the new shape must match the size of original array entries."
   ]
  },
  {
   "cell_type": "markdown",
   "metadata": {},
   "source": [
    "Access index is pretty straightforward. Let's consider `arr1`:"
   ]
  },
  {
   "cell_type": "code",
   "execution_count": 11,
   "metadata": {},
   "outputs": [
    {
     "name": "stdout",
     "output_type": "stream",
     "text": [
      "2"
     ]
    }
   ],
   "source": [
    "std::cout << arr1(0, 1);"
   ]
  },
  {
   "cell_type": "code",
   "execution_count": 12,
   "metadata": {},
   "outputs": [
    {
     "data": {
      "text/html": [
       "<table style='border-style:solid;border-width:1px;'><tbody><tr><td style='font-family:monospace;' title='(0, 0)'><pre> 1.</pre></td><td style='font-family:monospace;' title='(0, 1)'><pre> 2.</pre></td><td style='font-family:monospace;' title='(0, 2)'><pre> 3.</pre></td></tr><tr><td style='font-family:monospace;' title='(1, 0)'><pre> 2.</pre></td><td style='font-family:monospace;' title='(1, 1)'><pre> 5.</pre></td><td style='font-family:monospace;' title='(1, 2)'><pre> 7.</pre></td></tr><tr><td style='font-family:monospace;' title='(2, 0)'><pre> 2.</pre></td><td style='font-family:monospace;' title='(2, 1)'><pre> 5.</pre></td><td style='font-family:monospace;' title='(2, 2)'><pre> 7.</pre></td></tr></tbody></table>"
      ]
     },
     "execution_count": 12,
     "metadata": {},
     "output_type": "execute_result"
    }
   ],
   "source": [
    "arr1"
   ]
  },
  {
   "cell_type": "markdown",
   "metadata": {},
   "source": [
    "Or, with an 1D array:"
   ]
  },
  {
   "cell_type": "code",
   "execution_count": 13,
   "metadata": {},
   "outputs": [
    {
     "data": {
      "text/html": [
       "<table style='border-style:solid;border-width:1px;'><tbody><tr><td style='font-family:monospace;' title='(0, 0)'><pre>1</pre></td><td style='font-family:monospace;' title='(0, 1)'><pre>2</pre></td><td style='font-family:monospace;' title='(0, 2)'><pre>3</pre></td></tr><tr><td style='font-family:monospace;' title='(1, 0)'><pre>4</pre></td><td style='font-family:monospace;' title='(1, 1)'><pre>5</pre></td><td style='font-family:monospace;' title='(1, 2)'><pre>6</pre></td></tr><tr><td style='font-family:monospace;' title='(2, 0)'><pre>7</pre></td><td style='font-family:monospace;' title='(2, 1)'><pre>8</pre></td><td style='font-family:monospace;' title='(2, 2)'><pre>9</pre></td></tr></tbody></table>"
      ]
     },
     "execution_count": 13,
     "metadata": {},
     "output_type": "execute_result"
    }
   ],
   "source": [
    "arr3"
   ]
  },
  {
   "cell_type": "code",
   "execution_count": 14,
   "metadata": {},
   "outputs": [
    {
     "name": "stdout",
     "output_type": "stream",
     "text": [
      "3"
     ]
    }
   ],
   "source": [
    "xt::xarray<int> arr4 {\n",
    "    {1, 2, 3, 4}\n",
    "};\n",
    "\n",
    "std::cout << arr4(2);"
   ]
  },
  {
   "cell_type": "markdown",
   "metadata": {},
   "source": [
    "Now, let's use an universal function (`xt::pow`) to demonstrate the broadcasting feature. Firstly, let's declare two arrays with different template inputs and sizes:"
   ]
  },
  {
   "cell_type": "code",
   "execution_count": 15,
   "metadata": {},
   "outputs": [],
   "source": [
    "xt::xarray<double> arr5 {\n",
    "    {1.0, 2.0, 3.0}\n",
    "};\n",
    "\n",
    "xt::xarray<unsigned int> arr6 {\n",
    "    {4, 5, 6, 7}\n",
    "};"
   ]
  },
  {
   "cell_type": "markdown",
   "metadata": {},
   "source": [
    "Now, we transform `arr6` in a column array:"
   ]
  },
  {
   "cell_type": "code",
   "execution_count": 16,
   "metadata": {},
   "outputs": [],
   "source": [
    "arr6.reshape({4, 1});"
   ]
  },
  {
   "cell_type": "code",
   "execution_count": 17,
   "metadata": {},
   "outputs": [
    {
     "data": {
      "text/html": [
       "<table style='border-style:solid;border-width:1px;'><tbody><tr><td style='font-family:monospace;' title='(0, 0)'><pre>4</pre></td></tr><tr><td style='font-family:monospace;' title='(1, 0)'><pre>5</pre></td></tr><tr><td style='font-family:monospace;' title='(2, 0)'><pre>6</pre></td></tr><tr><td style='font-family:monospace;' title='(3, 0)'><pre>7</pre></td></tr></tbody></table>"
      ]
     },
     "execution_count": 17,
     "metadata": {},
     "output_type": "execute_result"
    }
   ],
   "source": [
    "arr6"
   ]
  },
  {
   "cell_type": "markdown",
   "metadata": {},
   "source": [
    "Note that reshaping is performed inline! What happens if we use `xt::pow` with these two arrays? Let's see:"
   ]
  },
  {
   "cell_type": "code",
   "execution_count": 18,
   "metadata": {},
   "outputs": [
    {
     "name": "stdout",
     "output_type": "stream",
     "text": [
      "{{    1.,    16.,    81.},\n",
      " {    1.,    32.,   243.},\n",
      " {    1.,    64.,   729.},\n",
      " {    1.,   128.,  2187.}}"
     ]
    }
   ],
   "source": [
    "xt::xarray<double> result_4 = xt::pow(arr5, arr6);\n",
    "\n",
    "std::cout << result_4;"
   ]
  },
  {
   "cell_type": "markdown",
   "metadata": {},
   "source": [
    "Nice! However, be aware that the dimensions must be compatible. For example, if `arr6.reshape({1, 4})` was performed, the broadcasting wouldn't proceed."
   ]
  },
  {
   "cell_type": "markdown",
   "metadata": {},
   "source": [
    "## Expressions and lazy evaluation"
   ]
  },
  {
   "cell_type": "markdown",
   "metadata": {},
   "source": [
    "In order to understand the conceptions, let's declare 3 new arrays:"
   ]
  },
  {
   "cell_type": "code",
   "execution_count": 19,
   "metadata": {},
   "outputs": [],
   "source": [
    "xt::xarray<double> x {\n",
    "    {2, 2, 4}\n",
    "};\n",
    "\n",
    "xt::xarray<double> y {\n",
    "    {1, 0, 1}\n",
    "};\n",
    "\n",
    "xt::xarray<double> z {\n",
    "    {0.3, 0.5, 0.7}\n",
    "};"
   ]
  },
  {
   "cell_type": "markdown",
   "metadata": {},
   "source": [
    "### Expressions"
   ]
  },
  {
   "cell_type": "markdown",
   "metadata": {},
   "source": [
    "An expression can be build by operating the arrays inferred by `auto` such as"
   ]
  },
  {
   "cell_type": "code",
   "execution_count": 20,
   "metadata": {},
   "outputs": [],
   "source": [
    "auto f = x + y * xt::sin(z);"
   ]
  },
  {
   "cell_type": "markdown",
   "metadata": {},
   "source": [
    "You can use it to compose in a more complex expression:"
   ]
  },
  {
   "cell_type": "code",
   "execution_count": 21,
   "metadata": {},
   "outputs": [],
   "source": [
    "auto f2 = y + 2 * xt::cos(f);"
   ]
  },
  {
   "cell_type": "markdown",
   "metadata": {},
   "source": [
    "The expression avoids evaluation at intermediate results. It improves the performance as near to if you had written a simple loop. If you want to evaluate, just assign it to a `lvalue` variable (better saying, to a container):"
   ]
  },
  {
   "cell_type": "code",
   "execution_count": 22,
   "metadata": {},
   "outputs": [
    {
     "name": "stdout",
     "output_type": "stream",
     "text": [
      "{{-0.325857, -0.832294,  0.863763}}"
     ]
    }
   ],
   "source": [
    "xt::xarray<double> result_eval = y + 2 * xt::cos(f);\n",
    "\n",
    "std::cout << result_eval;"
   ]
  },
  {
   "cell_type": "markdown",
   "metadata": {},
   "source": [
    "### Lazy evaluation"
   ]
  },
  {
   "cell_type": "markdown",
   "metadata": {},
   "source": [
    "This feature allows to compute the expression results only for the indices of interest. Let's consider now larger arrays:"
   ]
  },
  {
   "cell_type": "code",
   "execution_count": 23,
   "metadata": {},
   "outputs": [],
   "source": [
    "#include \"xtensor/xrandom.hpp\" // to use pseudo-random generator\n",
    "\n",
    "// Note that this is an expression\n",
    "auto random_basis = xt::random::rand<double>({100000, 1});\n",
    "\n",
    "xt::xarray<double> a = random_basis;\n",
    "xt::xarray<double> b = random_basis;"
   ]
  },
  {
   "cell_type": "markdown",
   "metadata": {},
   "source": [
    "Note that `a` and `b` are large, with 100000 entries. If we want only a certain input, we can evaluate only at the right index. Consider that we have the following expression:"
   ]
  },
  {
   "cell_type": "code",
   "execution_count": 24,
   "metadata": {},
   "outputs": [],
   "source": [
    "auto f_large = xt::cos(a) + xt::sin(b);"
   ]
  },
  {
   "cell_type": "markdown",
   "metadata": {},
   "source": [
    "If we only want two values, say, at 1200 and 2500, we only need to evaluate:"
   ]
  },
  {
   "cell_type": "code",
   "execution_count": 25,
   "metadata": {},
   "outputs": [],
   "source": [
    "double first_res = f_large(1200);"
   ]
  },
  {
   "cell_type": "markdown",
   "metadata": {},
   "source": [
    "and"
   ]
  },
  {
   "cell_type": "code",
   "execution_count": 26,
   "metadata": {},
   "outputs": [],
   "source": [
    "double second_res = f_large(2500);"
   ]
  },
  {
   "cell_type": "markdown",
   "metadata": {},
   "source": [
    "Only the above two values have been computed!"
   ]
  },
  {
   "cell_type": "markdown",
   "metadata": {},
   "source": [
    "### Forcing evaluation"
   ]
  },
  {
   "cell_type": "markdown",
   "metadata": {},
   "source": [
    "If, for any reason, you need to evaluate an `xexpression`, you can usa `xt::eval`. It can return an rvalue to a newly allocated container or a reference to a container. In order to avoid copies, you should use `auto&&`, the universal reference on LHS. For example:"
   ]
  },
  {
   "cell_type": "code",
   "execution_count": 27,
   "metadata": {},
   "outputs": [],
   "source": [
    "xt::xarray<double> array_a = {1, 2, 3};\n",
    "xt::xarray<double> array_b = {3, 2, 1};"
   ]
  },
  {
   "cell_type": "markdown",
   "metadata": {},
   "source": [
    "and we define the following xexpression (which is not evaluated):"
   ]
  },
  {
   "cell_type": "code",
   "execution_count": 28,
   "metadata": {},
   "outputs": [],
   "source": [
    "auto calculation = array_a + array_b;"
   ]
  },
  {
   "cell_type": "markdown",
   "metadata": {},
   "source": [
    "Now we can get an `xarray` rvalue container as:"
   ]
  },
  {
   "cell_type": "code",
   "execution_count": 29,
   "metadata": {},
   "outputs": [
    {
     "name": "stdout",
     "output_type": "stream",
     "text": [
      "{ 4.,  4.,  4.}"
     ]
    }
   ],
   "source": [
    "auto&& container_1 = xt::eval(calculation);\n",
    "\n",
    "std::cout << container_1;"
   ]
  },
  {
   "cell_type": "markdown",
   "metadata": {},
   "source": [
    "### Expression interface"
   ]
  },
  {
   "cell_type": "markdown",
   "metadata": {},
   "source": [
    "All `xexpression`s in `xtensor` provide the following convenience interfaces:"
   ]
  },
  {
   "cell_type": "markdown",
   "metadata": {},
   "source": [
    "#### Shape"
   ]
  },
  {
   "cell_type": "markdown",
   "metadata": {},
   "source": [
    "* `dimension()`: returns the number of dimensions;\n",
    "\n",
    "* `shape()`: returns the shape of the expression."
   ]
  },
  {
   "cell_type": "code",
   "execution_count": 30,
   "metadata": {},
   "outputs": [],
   "source": [
    "#include <vector>\n",
    "\n",
    "using array_type = xt::xarray<double>;\n",
    "using shape_type = array_type::shape_type;\n",
    "\n",
    "shape_type shape = {3, 2, 4};\n",
    "array_type arr7(shape);"
   ]
  },
  {
   "cell_type": "markdown",
   "metadata": {},
   "source": [
    "Let's check the dimension:"
   ]
  },
  {
   "cell_type": "code",
   "execution_count": 31,
   "metadata": {},
   "outputs": [
    {
     "name": "stdout",
     "output_type": "stream",
     "text": [
      "3"
     ]
    }
   ],
   "source": [
    "std::cout << arr7.dimension();"
   ]
  },
  {
   "cell_type": "markdown",
   "metadata": {},
   "source": [
    "Now the shape (a little more tricky):"
   ]
  },
  {
   "cell_type": "code",
   "execution_count": 32,
   "metadata": {},
   "outputs": [],
   "source": [
    "const shape_type& s = arr7.shape();\n",
    "\n",
    "auto res_check = s == shape;"
   ]
  },
  {
   "cell_type": "code",
   "execution_count": 33,
   "metadata": {},
   "outputs": [
    {
     "data": {
      "text/plain": [
       "true"
      ]
     },
     "execution_count": 33,
     "metadata": {},
     "output_type": "execute_result"
    }
   ],
   "source": [
    "res_check"
   ]
  },
  {
   "cell_type": "markdown",
   "metadata": {},
   "source": [
    "Be aware that the method `shape()` do not return readable shape format as in `numpy`. See below:"
   ]
  },
  {
   "cell_type": "code",
   "execution_count": 34,
   "metadata": {},
   "outputs": [
    {
     "data": {
      "text/plain": [
       "@0x7fc444000790"
      ]
     },
     "execution_count": 34,
     "metadata": {},
     "output_type": "execute_result"
    }
   ],
   "source": [
    "arr7.shape()"
   ]
  },
  {
   "cell_type": "markdown",
   "metadata": {},
   "source": [
    "which is a memory reference (not sure, I need to confirm it)."
   ]
  },
  {
   "cell_type": "markdown",
   "metadata": {},
   "source": [
    "#### Accessing"
   ]
  },
  {
   "cell_type": "markdown",
   "metadata": {},
   "source": []
  }
 ],
 "metadata": {
  "kernelspec": {
   "display_name": "C++14",
   "language": "C++14",
   "name": "xeus-cling-cpp14"
  },
  "language_info": {
   "codemirror_mode": "text/x-c++src",
   "file_extension": ".cpp",
   "mimetype": "text/x-c++src",
   "name": "c++",
   "version": "-std=c++14"
  },
  "toc": {
   "base_numbering": 1,
   "nav_menu": {},
   "number_sections": true,
   "sideBar": true,
   "skip_h1_title": false,
   "title_cell": "Table of Contents",
   "title_sidebar": "Contents",
   "toc_cell": false,
   "toc_position": {},
   "toc_section_display": true,
   "toc_window_display": false
  }
 },
 "nbformat": 4,
 "nbformat_minor": 2
}
