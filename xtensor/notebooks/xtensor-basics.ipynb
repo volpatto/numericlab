{
 "cells": [
  {
   "cell_type": "code",
   "execution_count": 1,
   "metadata": {},
   "outputs": [],
   "source": [
    "#include <iostream>\n",
    "#include \"xtensor/xarray.hpp\"\n",
    "#include \"xtensor/xio.hpp\"\n",
    "#include \"xtensor/xview.hpp\""
   ]
  },
  {
   "cell_type": "code",
   "execution_count": 2,
   "metadata": {},
   "outputs": [],
   "source": [
    "xt::xarray<double> arr1 {\n",
    "    {1, 2, 3},\n",
    "    {2, 5, 7},\n",
    "    {2, 5, 7}\n",
    "};"
   ]
  },
  {
   "cell_type": "code",
   "execution_count": 3,
   "metadata": {},
   "outputs": [
    {
     "data": {
      "text/html": [
       "<table style='border-style:solid;border-width:1px;'><tbody><tr><td style='font-family:monospace;' title='(0, 0)'><pre> 1.</pre></td><td style='font-family:monospace;' title='(0, 1)'><pre> 2.</pre></td><td style='font-family:monospace;' title='(0, 2)'><pre> 3.</pre></td></tr><tr><td style='font-family:monospace;' title='(1, 0)'><pre> 2.</pre></td><td style='font-family:monospace;' title='(1, 1)'><pre> 5.</pre></td><td style='font-family:monospace;' title='(1, 2)'><pre> 7.</pre></td></tr><tr><td style='font-family:monospace;' title='(2, 0)'><pre> 2.</pre></td><td style='font-family:monospace;' title='(2, 1)'><pre> 5.</pre></td><td style='font-family:monospace;' title='(2, 2)'><pre> 7.</pre></td></tr></tbody></table>"
      ]
     },
     "execution_count": 3,
     "metadata": {},
     "output_type": "execute_result"
    }
   ],
   "source": [
    "arr1"
   ]
  },
  {
   "cell_type": "code",
   "execution_count": 4,
   "metadata": {},
   "outputs": [],
   "source": [
    "xt::xarray<double> arr2{\n",
    "    {5, 6, 7}\n",
    "};"
   ]
  },
  {
   "cell_type": "code",
   "execution_count": 5,
   "metadata": {},
   "outputs": [
    {
     "name": "stdout",
     "output_type": "stream",
     "text": [
      "{{  7.,  11.,  14.}}\n",
      "{{ 7.,  8.,  9.}}\n"
     ]
    }
   ],
   "source": [
    "xt::xarray<double> res1 = xt::view(arr1, 1) + arr2;\n",
    "auto res2 = xt::view(arr1, 1) + arr2;\n",
    "\n",
    "std::cout << res1 << std::endl;\n",
    "std::cout << res2 << std::endl;"
   ]
  }
 ],
 "metadata": {
  "kernelspec": {
   "display_name": "C++14",
   "language": "C++14",
   "name": "xeus-cling-cpp14"
  },
  "language_info": {
   "codemirror_mode": "text/x-c++src",
   "file_extension": ".cpp",
   "mimetype": "text/x-c++src",
   "name": "c++",
   "version": "-std=c++14"
  },
  "toc": {
   "base_numbering": 1,
   "nav_menu": {},
   "number_sections": true,
   "sideBar": true,
   "skip_h1_title": false,
   "title_cell": "Table of Contents",
   "title_sidebar": "Contents",
   "toc_cell": false,
   "toc_position": {},
   "toc_section_display": true,
   "toc_window_display": false
  }
 },
 "nbformat": 4,
 "nbformat_minor": 2
}
