{
 "cells": [
  {
   "cell_type": "markdown",
   "metadata": {},
   "source": [
    "# Matrix template class"
   ]
  },
  {
   "cell_type": "markdown",
   "metadata": {},
   "source": [
    "Here I will provide some brief overview about the `Matrix` template class. All the subjects are heavily based on the [official documentation](https://eigen.tuxfamily.org/dox/group__TutorialMatrixClass.html)."
   ]
  },
  {
   "cell_type": "markdown",
   "metadata": {},
   "source": [
    "The following dependencies will be used:"
   ]
  },
  {
   "cell_type": "code",
   "execution_count": 1,
   "metadata": {},
   "outputs": [],
   "source": [
    "#include <iostream>\n",
    "#include <eigen3/Eigen/Dense>\n",
    "\n",
    "using namespace Eigen;"
   ]
  },
  {
   "cell_type": "markdown",
   "metadata": {},
   "source": [
    "## The first three template parameters of `Matrix`"
   ]
  },
  {
   "cell_type": "markdown",
   "metadata": {},
   "source": [
    "`Matrix` class takes 6 templates parameters. But for now only the first three will be necessary. This parameters are:\n",
    "\n",
    "```C++\n",
    "Matrix<typename Scalar, int RowsAtCompileTime, int ColsAtCompileTime>\n",
    "```\n",
    "\n",
    "Furthermore:\n",
    "\n",
    "* `Scalar` is the type of the entries (coefficients);\n",
    "\n",
    "* `RowsAtCompileTime` and `ColsAtCompileTime` are the number of rows and columns of the matrix defined at compile tome.\n",
    "\n",
    "For very frequent cases, Eigen provides convenience `typedef`s. For 4x4 matrix and 3x3 matrix, for example, one can simply do:\n",
    "\n",
    "```C++\n",
    "Matrix4d matrix_1;\n",
    "Matrix3d matrix_2;\n",
    "```\n",
    "\n",
    "Behind the scenes, this is what is happening:\n",
    "\n",
    "```C++\n",
    "typedef Matrix<double, 4, 4> Matrix4d;\n",
    "typedef Matrix<double, 3, 3> Matrix3d;\n",
    "```"
   ]
  },
  {
   "cell_type": "markdown",
   "metadata": {},
   "source": [
    "## Vectors"
   ]
  },
  {
   "cell_type": "markdown",
   "metadata": {},
   "source": [
    "Vectors are just a particular case of `Matrix`. They have either 1 row or 1 column. In Eigen, the most common is vectors as 1-column, or, better saying, column-vectors. Otherwise, they are called row-vectors.\n",
    "\n",
    "Analogously for `Matrix`s, Eigen provide convenience methods for vectors. For example:\n",
    "\n",
    "```C++\n",
    "typedef Matrix<float, 3, 1> Vector3f;  // column-vector with 3 float entries\n",
    "```\n",
    "\n",
    "There are also row-vectors, say:\n",
    "\n",
    "```C++\n",
    "typedef Matrix<int, 1, 2> RowVector2i;  // row-vector with 2 integer entries\n",
    "```"
   ]
  },
  {
   "cell_type": "markdown",
   "metadata": {},
   "source": [
    "## Dynamic sizes"
   ]
  },
  {
   "cell_type": "markdown",
   "metadata": {},
   "source": [
    "All the previous case are called __fixed-size__, since one states the size of the `Matrix` at compile time. It is also possible to have __dynamic size__, which are determined at run-time. To do so, Eigen uses a special value called `Dynamic`. The combination of this value with `Matrix` produces the following convenience typedef, for example:\n",
    "\n",
    "```C++\n",
    "typedef Matrix<double, Dynamic, Dynamic> MatrixXd;\n",
    "typedef Matrix<float, Dynamic, Dynamic> MatrixXf;\n",
    "typedef Matrix<int, Dynamic, Dynamic> MatrixXi;\n",
    "```\n",
    "\n",
    "or, analogously for vectors, we have\n",
    "\n",
    "```C++\n",
    "typedef Matrix<double, Dynamic, 1> VectorXd;\n",
    "typedef Matrix<float, Dynamic, 1> VectorXf;\n",
    "typedef Matrix<int, Dynamic, 1> VectorXi;\n",
    "```\n",
    "\n",
    "Moreover, one can also have a fixed number of rows and dynamic column size just as\n",
    "\n",
    "```C++\n",
    "Matrix<double, 4, Dynamic>\n",
    "```\n",
    "\n",
    "There are other combinations, but above I provided the most useful for me."
   ]
  },
  {
   "cell_type": "markdown",
   "metadata": {},
   "source": [
    "## Constructors"
   ]
  },
  {
   "cell_type": "markdown",
   "metadata": {},
   "source": [
    "Constructors are always available and can be easily used just as:\n",
    "\n",
    "```C++\n",
    "Matrix3f a;\n",
    "MatrixXf b;\n",
    "```\n",
    "\n",
    "where\n",
    "\n",
    "* `a` is a unitialized 3x3 matrix for float entries;\n",
    "* `b` is a unitialized dynamic-size matrix. It is currently a 0x0 matrix and its coefficients hasn't yet been allocated.\n",
    "\n",
    "Alternatively, we could initialize with allocate array of coefficientes with a given size, for instance\n",
    "\n",
    "```C++\n",
    "MatrixXf c(10, 15);\n",
    "VectorXf d(15);\n",
    "```\n",
    "\n",
    "where  the first matrix index is the number of rows and the last are columns. Furthermore\n",
    "\n",
    "* `c` is a 10x15 dynamic-size matrix with allocated but currently unitialized coefficients;\n",
    "* `d` is a dynamic-size vector of size 30 with allocated but currently unitialized coefficients\n",
    "\n",
    "Eigen offers constructors to initialize small fixed-size vectors up to size 4:\n",
    "\n",
    "```C++\n",
    "Vector2d a(1.0, 2.0);\n",
    "Vector3d b(1.0, 2.0, 3.0);\n",
    "Vector4d c(1.0, 2.0, 3.0, 4.0);\n",
    "```"
   ]
  },
  {
   "cell_type": "markdown",
   "metadata": {},
   "source": [
    "## Element accessing"
   ]
  },
  {
   "cell_type": "markdown",
   "metadata": {},
   "source": [
    "To access elements in Matrix and Vector Eigen objects is pretty simple. As general rule, always use `operator()`, this will work as expected for both matrix and vector. Let's see it in practice:"
   ]
  },
  {
   "cell_type": "code",
   "execution_count": 2,
   "metadata": {},
   "outputs": [
    {
     "name": "stdout",
     "output_type": "stream",
     "text": [
      "-0.207313  0.483821\n",
      " 0.248325  -0.60754"
     ]
    }
   ],
   "source": [
    "Matrix2d matrix_1 = Matrix2d::Random();\n",
    "\n",
    "std::cout << matrix_1;"
   ]
  },
  {
   "cell_type": "markdown",
   "metadata": {},
   "source": [
    "We can simply access $(\\text{row}, \\text{col})$, say, for `row = 1` and `col = 0`, as"
   ]
  },
  {
   "cell_type": "code",
   "execution_count": 3,
   "metadata": {},
   "outputs": [
    {
     "data": {
      "text/plain": [
       "0.248325"
      ]
     },
     "execution_count": 3,
     "metadata": {},
     "output_type": "execute_result"
    }
   ],
   "source": [
    "matrix_1(1, 0)"
   ]
  },
  {
   "cell_type": "markdown",
   "metadata": {},
   "source": [
    "For vectors, the same is valid:"
   ]
  },
  {
   "cell_type": "code",
   "execution_count": 4,
   "metadata": {},
   "outputs": [
    {
     "name": "stdout",
     "output_type": "stream",
     "text": [
      "-0.737212\n",
      " 0.473095\n",
      "-0.657211"
     ]
    }
   ],
   "source": [
    "Vector3f vec_1 = Vector3f::Random();\n",
    "\n",
    "std::cout << vec_1;"
   ]
  },
  {
   "cell_type": "code",
   "execution_count": 5,
   "metadata": {},
   "outputs": [
    {
     "data": {
      "text/plain": [
       "0.4731f"
      ]
     },
     "execution_count": 5,
     "metadata": {},
     "output_type": "execute_result"
    }
   ],
   "source": [
    "vec_1(1)"
   ]
  },
  {
   "cell_type": "markdown",
   "metadata": {},
   "source": [
    "Or even with"
   ]
  },
  {
   "cell_type": "code",
   "execution_count": 6,
   "metadata": {},
   "outputs": [
    {
     "data": {
      "text/plain": [
       "0.4731f"
      ]
     },
     "execution_count": 6,
     "metadata": {},
     "output_type": "execute_result"
    }
   ],
   "source": [
    "vec_1[1]"
   ]
  },
  {
   "cell_type": "markdown",
   "metadata": {},
   "source": [
    "As a final remark on this topic, for matrix the accessing way `matrix(index)` works, but caution must be taken. This result in a index-based access in the array of coefficients. So, if you try `matrix(2)`, you will access the third element stored in `matrix`. By default, Eigen uses column-major storage order. It means that index-based numeration is performed over the columns, before from top to bottom, after left to right. Taking `matrix_1` as example:"
   ]
  },
  {
   "cell_type": "code",
   "execution_count": 7,
   "metadata": {},
   "outputs": [
    {
     "data": {
      "text/plain": [
       "0.483821"
      ]
     },
     "execution_count": 7,
     "metadata": {},
     "output_type": "execute_result"
    }
   ],
   "source": [
    "matrix_1(2)"
   ]
  },
  {
   "cell_type": "markdown",
   "metadata": {},
   "source": [
    "And the enumeration is:\n",
    "\n",
    "| index | matrix entry     |\n",
    "|:---   |     :---:        |\n",
    "| 0     |    (0, 0)        |\n",
    "| 1     |    (1, 0)        |\n",
    "| 2     |    (0, 1)        |\n",
    "| 3     |    (1, 1)        |"
   ]
  },
  {
   "cell_type": "markdown",
   "metadata": {},
   "source": [
    "## Initialization"
   ]
  },
  {
   "cell_type": "markdown",
   "metadata": {},
   "source": [
    "Matrix and vector coefficients can be initialized with a convenience comma-initialization fashion (see below)."
   ]
  },
  {
   "cell_type": "code",
   "execution_count": 8,
   "metadata": {},
   "outputs": [
    {
     "name": "stdout",
     "output_type": "stream",
     "text": [
      "1 2 3\n",
      "4 5 6\n",
      "7 8 9"
     ]
    }
   ],
   "source": [
    "Matrix3d matrix_2;\n",
    "matrix_2 << 1, 2, 3,\n",
    "            4, 5, 6,\n",
    "            7, 8, 9;\n",
    "\n",
    "std::cout << matrix_2;"
   ]
  },
  {
   "cell_type": "markdown",
   "metadata": {},
   "source": [
    "## Size and resize"
   ]
  },
  {
   "cell_type": "markdown",
   "metadata": {},
   "source": [
    "The size of a matrix can be retrieved by the method `size()`:"
   ]
  },
  {
   "cell_type": "code",
   "execution_count": 9,
   "metadata": {},
   "outputs": [
    {
     "name": "stdout",
     "output_type": "stream",
     "text": [
      "9"
     ]
    }
   ],
   "source": [
    "std::cout << matrix_2.size();"
   ]
  },
  {
   "cell_type": "markdown",
   "metadata": {},
   "source": [
    "which returns the number of entries (coefficients). It is equivalent to the product `rows * columns`. One can obtain the number of rows and columns as follows:"
   ]
  },
  {
   "cell_type": "code",
   "execution_count": 10,
   "metadata": {},
   "outputs": [
    {
     "name": "stdout",
     "output_type": "stream",
     "text": [
      "Number of rows: 3\n",
      "Number of columns: 3"
     ]
    }
   ],
   "source": [
    "std::cout << \"Number of rows: \" << matrix_2.rows() << std::endl;\n",
    "std::cout << \"Number of columns: \" << matrix_2.cols();"
   ]
  },
  {
   "cell_type": "markdown",
   "metadata": {},
   "source": [
    "If you want to resize a dynamic-size `Matrix`, you just can use `resize()` method:"
   ]
  },
  {
   "cell_type": "code",
   "execution_count": 11,
   "metadata": {},
   "outputs": [],
   "source": [
    "Matrix<double, Dynamic, Dynamic> matrix_3(2, 4);\n",
    "matrix_3 << 1, 2, 3, 4,\n",
    "            5, 6, 7, 8;"
   ]
  },
  {
   "cell_type": "code",
   "execution_count": 12,
   "metadata": {},
   "outputs": [
    {
     "name": "stdout",
     "output_type": "stream",
     "text": [
      "1 2 3 4\n",
      "5 6 7 8"
     ]
    }
   ],
   "source": [
    "std::cout << matrix_3;"
   ]
  },
  {
   "cell_type": "code",
   "execution_count": 13,
   "metadata": {},
   "outputs": [
    {
     "name": "stdout",
     "output_type": "stream",
     "text": [
      "1 3\n",
      "5 7\n",
      "2 4\n",
      "6 8"
     ]
    }
   ],
   "source": [
    "matrix_3.resize(4, 2);\n",
    "\n",
    "std::cout << matrix_3;"
   ]
  },
  {
   "cell_type": "markdown",
   "metadata": {},
   "source": [
    "There are two remarks:\n",
    "\n",
    "1. `resize()` does not work on fixed-size `Matrix`, unless the desired size is the same as the original. In practical terms, it means that there is no effect in resizing a fixed-size `Matrix`, but it is still available for the sake of API uniformity.\n",
    "2. For dynamic-size, the `Matrix` storage is column-major. So, the `resize()` follows the storage order.\n",
    "\n",
    "If you want a row-major storage, you can use the template arguments as:"
   ]
  },
  {
   "cell_type": "code",
   "execution_count": 14,
   "metadata": {},
   "outputs": [
    {
     "name": "stdout",
     "output_type": "stream",
     "text": [
      "1 2 3 4\n",
      "5 6 7 8"
     ]
    }
   ],
   "source": [
    "Matrix<double, Dynamic, Dynamic, RowMajor> matrix_4(2, 4);\n",
    "matrix_4 << 1, 2, 3, 4,\n",
    "            5, 6, 7, 8;\n",
    "\n",
    "std::cout << matrix_4;"
   ]
  },
  {
   "cell_type": "code",
   "execution_count": 15,
   "metadata": {},
   "outputs": [
    {
     "name": "stdout",
     "output_type": "stream",
     "text": [
      "1 2\n",
      "3 4\n",
      "5 6\n",
      "7 8"
     ]
    }
   ],
   "source": [
    "matrix_4.resize(4, 2);\n",
    "\n",
    "std::cout << matrix_4;"
   ]
  },
  {
   "cell_type": "markdown",
   "metadata": {},
   "source": [
    "## Assignment"
   ]
  },
  {
   "cell_type": "markdown",
   "metadata": {},
   "source": [
    "For definition, assignment consists in copying a matrix into another by means of `operator=`. If you assign to a left-hand (dynamic-size) matrix another (dynamic-size) one with different size, Eigen automatically converts the size of the left-hand matrix to match the size of the right-hand matrix. See below:"
   ]
  },
  {
   "cell_type": "code",
   "execution_count": 16,
   "metadata": {},
   "outputs": [
    {
     "name": "stdout",
     "output_type": "stream",
     "text": [
      "matrix_5 size: 2x2"
     ]
    }
   ],
   "source": [
    "MatrixXd matrix_5(2, 2);\n",
    "\n",
    "std::cout << \"matrix_5 size: \" << matrix_5.rows() << \"x\" << matrix_5.cols();"
   ]
  },
  {
   "cell_type": "code",
   "execution_count": 17,
   "metadata": {},
   "outputs": [
    {
     "name": "stdout",
     "output_type": "stream",
     "text": [
      "matrix_5 size: 3x3"
     ]
    }
   ],
   "source": [
    "MatrixXd matrix_6(3, 3);\n",
    "matrix_5 = matrix_6;\n",
    "\n",
    "std::cout << \"matrix_5 size: \" << matrix_5.rows() << \"x\" << matrix_5.cols();"
   ]
  },
  {
   "cell_type": "markdown",
   "metadata": {},
   "source": [
    "Note that if the left-hand matrix is of fixed-size, resize will be not allowed."
   ]
  },
  {
   "cell_type": "markdown",
   "metadata": {},
   "source": [
    "## Fixed vs. Dynamic size"
   ]
  },
  {
   "cell_type": "markdown",
   "metadata": {},
   "source": [
    "As commented in the Eigen's documentation, it is recommended to use fixed size matrix (like `Matrix4f`) when you can and for small sizes. Otherwise, use dynamic size. For small sizes (say, less than 16, for example), fixed-size `Matrix` performs better than dynamic-size. However, around size 32 and above, the differences between performances are negigible.\n",
    "\n",
    "Another important point is that creating large fixed-size `Matrix`, say, inside a function, can result in a stack overflow, since the variable will be local, and it is commonly stored on the stack."
   ]
  },
  {
   "cell_type": "markdown",
   "metadata": {},
   "source": [
    "## `Matrix` optional template parameters"
   ]
  },
  {
   "cell_type": "markdown",
   "metadata": {},
   "source": [
    "Now, let's learn a little about the remaining 3 template parameters of `Matrix`. In the beginning of this notebook, we saw the first three parameters. The last three parameters are optional, but they can be useful in some cases. See below the complete list of template parameters:\n",
    "\n",
    "```C++\n",
    "Matrix<typename Scalar,\n",
    "       int RowsAtCompileTime,\n",
    "       int ColsAtCompileTime,\n",
    "       int Options = 0,\n",
    "       int MaxRowsAtCompileTime = RowsAtCompileTime,\n",
    "       int MaxColsAtCompileTime = ColsAtCompileTime>\n",
    "```\n",
    "\n",
    "About the three last parameters:\n",
    "\n",
    "* `Options` specifies the type of storage order. There we can select a `RowMajor` storage or a `ColMajor`.\n",
    "* `MaxRowsAtCompileTime` and `MaxColsAtCompileTime` define fixed upper bounds for the number of rows and columns, even when the exact size of the `Matrix` is not known at compile time."
   ]
  },
  {
   "cell_type": "markdown",
   "metadata": {},
   "source": [
    "## Convenience `typedef`s\n",
    "\n",
    "We already saw some `typedef`s around. Let's see `typedef`s that Eigen provides in a bigger picture:\n",
    "\n",
    "* `MatrixNt` for `Matrix<type, N, N>`. For example, `MatrixXi` for `Matrix<int, Dynamic, Dynamic>`.\n",
    "* `VectorNt` for `Matrix<type, N, 1>`. For example, `Vector2f` for `Matrix<float, 2, 1>`.\n",
    "* `RowVectorNt` for `Matrix<type, 1, N>`. For example, `RowVector3d` for `Matrix<double, 1, 3>`.\n",
    "\n",
    "Where:\n",
    "\n",
    "* `N` can be any one among 2, 3, 4 or X (Dynamic-size).\n",
    "* `t` can be any one of `i` (int), `f` (float), `d` (double), `cf` (`complex<float>`) or `cd` (`complex<double>`). There are more Scalar options supported, but the aforementioned are the ones we need here."
   ]
  }
 ],
 "metadata": {
  "kernelspec": {
   "display_name": "C++14",
   "language": "C++14",
   "name": "xeus-cling-cpp14"
  },
  "language_info": {
   "codemirror_mode": "text/x-c++src",
   "file_extension": ".cpp",
   "mimetype": "text/x-c++src",
   "name": "c++",
   "version": "-std=c++14"
  },
  "toc": {
   "base_numbering": 1,
   "nav_menu": {},
   "number_sections": true,
   "sideBar": true,
   "skip_h1_title": false,
   "title_cell": "Table of Contents",
   "title_sidebar": "Contents",
   "toc_cell": false,
   "toc_position": {},
   "toc_section_display": true,
   "toc_window_display": false
  }
 },
 "nbformat": 4,
 "nbformat_minor": 2
}
