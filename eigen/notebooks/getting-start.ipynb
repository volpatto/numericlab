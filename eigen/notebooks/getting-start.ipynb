{
 "cells": [
  {
   "cell_type": "markdown",
   "metadata": {},
   "source": [
    "# Getting start with Eigen3\n",
    "\n",
    "This notebooks basicaly reproduces (in a notebook) the [Eigen's Getting Start page](https://eigen.tuxfamily.org/dox/GettingStarted.html) with few modifications. Here, I will not concerned about installing, building and running, since I'm using notebooks to exemplify usage aspects only."
   ]
  },
  {
   "cell_type": "markdown",
   "metadata": {},
   "source": [
    "## Example 1: a simple first program"
   ]
  },
  {
   "cell_type": "markdown",
   "metadata": {},
   "source": [
    "First, we link the proper header files:"
   ]
  },
  {
   "cell_type": "code",
   "execution_count": 1,
   "metadata": {},
   "outputs": [],
   "source": [
    "#include <iostream>\n",
    "#include <eigen3/Eigen/Dense>"
   ]
  },
  {
   "cell_type": "markdown",
   "metadata": {},
   "source": [
    "Since that Eigen header file defines several types, as starting point I'm only interest in `MatrixXd`, which is a matrix of arbitrary size `X` size), where every entry is a double (hence the `d` in the suffix) . So, let's get what we need:"
   ]
  },
  {
   "cell_type": "code",
   "execution_count": 2,
   "metadata": {},
   "outputs": [],
   "source": [
    "using Eigen::MatrixXd;"
   ]
  },
  {
   "cell_type": "markdown",
   "metadata": {},
   "source": [
    "A first point to note is that the include procedure employed here slightly differs from the official documentation. This is due to the way we build Eigen within a Conda Environment. No need to worry!"
   ]
  },
  {
   "cell_type": "markdown",
   "metadata": {},
   "source": [
    "Below, we declare a matrix and assign values to it:"
   ]
  },
  {
   "cell_type": "code",
   "execution_count": 3,
   "metadata": {},
   "outputs": [
    {
     "name": "stdout",
     "output_type": "stream",
     "text": [
      "  3  -1\n",
      "2.5 1.5"
     ]
    }
   ],
   "source": [
    "MatrixXd matrix_1(2,2);  // a matrix with 2 rows and 2 cols\n",
    "\n",
    "matrix_1(0, 0) = 3;\n",
    "matrix_1(1, 0) = 2.5;\n",
    "matrix_1(0, 1) = -1;\n",
    "matrix_1(1, 1) = matrix_1(1, 0) + matrix_1(0, 1);\n",
    "\n",
    "std::cout << matrix_1;"
   ]
  },
  {
   "cell_type": "markdown",
   "metadata": {},
   "source": [
    "Initializing looks pretty simple!"
   ]
  },
  {
   "cell_type": "markdown",
   "metadata": {},
   "source": [
    "## Example 2: Matrices and vectors"
   ]
  },
  {
   "cell_type": "markdown",
   "metadata": {},
   "source": [
    "Let's consider another example. Herein, for simplicity's sake (and lesser amount of code), I will use the desired namespace:"
   ]
  },
  {
   "cell_type": "code",
   "execution_count": 4,
   "metadata": {},
   "outputs": [],
   "source": [
    "using namespace Eigen;"
   ]
  },
  {
   "cell_type": "markdown",
   "metadata": {},
   "source": [
    "Below, I define a $(3, 3)$-matrix with random entries:"
   ]
  },
  {
   "cell_type": "code",
   "execution_count": 5,
   "metadata": {},
   "outputs": [
    {
     "name": "stdout",
     "output_type": "stream",
     "text": [
      "matrix_2 =\n",
      "46.3119 25.6846 63.0061\n",
      "75.3469 38.6798 100.264\n",
      "107.314  83.862 35.4142"
     ]
    }
   ],
   "source": [
    "// Initializing\n",
    "MatrixXd matrix_2 = MatrixXd::Random(3, 3);\n",
    "\n",
    "// A linear mapping\n",
    "matrix_2 = (matrix_2 + MatrixXd::Constant(3, 3, 1.2)) * 50;\n",
    "\n",
    "std::cout << \"matrix_2 =\" << std::endl << matrix_2;"
   ]
  },
  {
   "cell_type": "markdown",
   "metadata": {},
   "source": [
    "The `MatrixXd::Random()` provides a matrix with random entries within $[-1, 1]$ range. In the following, a linear map is performed. The constructor `MatrixXd::Constant(rows, cols, value)` creates a $(\\texttt{rows},\\texttt{cols})$-matrix with all entries equal to `value`. Thus, in the parenthesis, the resulting matrix has entries with values in the range $[0.2, 2.2]$. Hence, after multiplied by $50$, the range for `matrix_2` is $[10, 110]$."
   ]
  },
  {
   "cell_type": "markdown",
   "metadata": {},
   "source": [
    "Now, I will create a simple 3D-vector and perform the multiplication `matrix_2 * vector_1`, like $Ax = b$ systems:"
   ]
  },
  {
   "cell_type": "code",
   "execution_count": 6,
   "metadata": {},
   "outputs": [
    {
     "name": "stdout",
     "output_type": "stream",
     "text": [
      "matrix_2 * vector_1 =\n",
      "286.699\n",
      "  453.5\n",
      "381.281"
     ]
    }
   ],
   "source": [
    "VectorXd vector_1(3);\n",
    "vector_1 << 1, 2, 3;  // note that this is a way to initialize\n",
    "\n",
    "std::cout << \"matrix_2 * vector_1 =\" << std::endl << matrix_2 * vector_1;"
   ]
  },
  {
   "cell_type": "markdown",
   "metadata": {},
   "source": [
    "Above, a vector with 3 coefficients were created from a unitialized `VectorXd`. This represents a __column__ vector of arbitrary size, which was stated as 3 in the present case. All Eigen vectors (from `VectorXd`) are column vectors."
   ]
  },
  {
   "cell_type": "markdown",
   "metadata": {},
   "source": [
    "Instead of declaring dynamic matrix and vectors, which will have their size determined in runtime, we could also use equivalent constructors with fixed-size. This way has the advantages to decreases te compiling time and can perform a more rigorous checking. See below the equivalent fixed-size version:"
   ]
  },
  {
   "cell_type": "code",
   "execution_count": 7,
   "metadata": {},
   "outputs": [
    {
     "name": "stdout",
     "output_type": "stream",
     "text": [
      "matrix_3 =\n",
      "87.6768 92.5307 73.3846\n",
      "56.8106 89.7488 57.2078\n",
      " 33.707 26.5381 11.2439\n",
      "matrix_3 * vector_2 =\n",
      "492.892\n",
      "407.932\n",
      "120.515"
     ]
    }
   ],
   "source": [
    "// Initializing\n",
    "Matrix3d matrix_3 = Matrix3d::Random();\n",
    "\n",
    "// A linear mapping\n",
    "matrix_3 = (matrix_3 + Matrix3d::Constant(1.2)) * 50;\n",
    "\n",
    "Vector3d vector_2(1, 2, 3);\n",
    "\n",
    "std::cout << \"matrix_3 =\" << std::endl << matrix_3 << std::endl;\n",
    "std::cout << \"matrix_3 * vector_2 =\" << std::endl << matrix_3 * vector_2;"
   ]
  },
  {
   "cell_type": "markdown",
   "metadata": {},
   "source": [
    "Note that, for fixed-size matrices and vectors, just replace `X` for `3`. The suffix `d` remains the same, as the entries are double type. The constructors now don't need any information about the size, since it is already incorporated by replaced `X`. Another important point is the vector initialization. This time, I used `vector_2(1, 2, 3)`, but the same used for dynamic vector could be used as well."
   ]
  },
  {
   "cell_type": "markdown",
   "metadata": {},
   "source": [
    "Behind the scenes, the fixed-size matrices and vectors are just C++ `typedef`. The `Matrix3d` used above is just:\n",
    "\n",
    "```C++\n",
    "typedef Matrix<double, 3, 3> Matrix3d;\n",
    "```\n",
    "\n",
    "Analogously, we have for vectors:\n",
    "\n",
    "```C++\n",
    "typedef Matrix<double, 3, 1> Vector3d;\n",
    "```\n",
    "\n",
    "All Eigen matrices and vectors are essentially objects of the `Matrix` templeta class."
   ]
  },
  {
   "cell_type": "markdown",
   "metadata": {},
   "source": [
    "## Final words"
   ]
  },
  {
   "cell_type": "markdown",
   "metadata": {},
   "source": [
    "Here, we reviewed the very basic use of Eigen, specially about matrices and vectors. For futher details, you can check the official documentation as well as a (little) longer tutorial provided in other notebook."
   ]
  }
 ],
 "metadata": {
  "kernelspec": {
   "display_name": "C++11",
   "language": "C++11",
   "name": "xeus-cling-cpp11"
  },
  "language_info": {
   "codemirror_mode": "text/x-c++src",
   "file_extension": ".cpp",
   "mimetype": "text/x-c++src",
   "name": "c++",
   "version": "-std=c++11"
  },
  "toc": {
   "base_numbering": 1,
   "nav_menu": {},
   "number_sections": true,
   "sideBar": true,
   "skip_h1_title": false,
   "title_cell": "Table of Contents",
   "title_sidebar": "Contents",
   "toc_cell": false,
   "toc_position": {},
   "toc_section_display": true,
   "toc_window_display": false
  }
 },
 "nbformat": 4,
 "nbformat_minor": 2
}
