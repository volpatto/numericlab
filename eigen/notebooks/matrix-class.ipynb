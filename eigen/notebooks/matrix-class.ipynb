{
 "cells": [
  {
   "cell_type": "markdown",
   "metadata": {},
   "source": [
    "# Matrix template class"
   ]
  },
  {
   "cell_type": "markdown",
   "metadata": {},
   "source": [
    "Here I will provide some brief overview about the `Matrix` template class. All the subjects are heavily based on the [official documentation](https://eigen.tuxfamily.org/dox/group__TutorialMatrixClass.html)."
   ]
  },
  {
   "cell_type": "markdown",
   "metadata": {},
   "source": [
    "The following dependencies will be used:"
   ]
  },
  {
   "cell_type": "code",
   "execution_count": 1,
   "metadata": {},
   "outputs": [],
   "source": [
    "#include <iostream>\n",
    "#include <eigen3/Eigen/Dense>\n",
    "\n",
    "using namespace Eigen;"
   ]
  },
  {
   "cell_type": "markdown",
   "metadata": {},
   "source": [
    "## The first three template parameters of `Matrix`"
   ]
  },
  {
   "cell_type": "markdown",
   "metadata": {},
   "source": [
    "`Matrix` class takes 6 templates parameters. But for now only the first three will be necessary. This parameters are:\n",
    "\n",
    "```C++\n",
    "Matrix<typename Scalar, int RowsAtCompileTime, int ColsAtCompileTime>\n",
    "```\n",
    "\n",
    "Furthermore:\n",
    "\n",
    "* `Scalar` is the type of the entries (coefficients);\n",
    "\n",
    "* `RowsAtCompileTime` and `ColsAtCompileTime` are the number of rows and columns of the matrix defined at compile tome.\n",
    "\n",
    "For very frequent cases, Eigen provides convenience `typedef`s. For 4x4 matrix and 3x3 matrix, for example, one can simply do:\n",
    "\n",
    "```C++\n",
    "Matrix4d matrix_1;\n",
    "Matrix3d matrix_2;\n",
    "```\n",
    "\n",
    "Behind the scenes, this is what is happening:\n",
    "\n",
    "```C++\n",
    "typedef Matrix<double, 4, 4> Matrix4d;\n",
    "typedef Matrix<double, 3, 3> Matrix3d;\n",
    "```"
   ]
  },
  {
   "cell_type": "markdown",
   "metadata": {},
   "source": [
    "## Vectors"
   ]
  },
  {
   "cell_type": "markdown",
   "metadata": {},
   "source": [
    "Vectors are just a particular case of `Matrix`. They have either 1 row or 1 column. In Eigen, the most common is vectors as 1-column, or, better saying, column-vectors. Otherwise, they are called row-vectors.\n",
    "\n",
    "Analogously for `Matrix`s, Eigen provide convenience methods for vectors. For example:\n",
    "\n",
    "```C++\n",
    "typedef Matrix<float, 3, 1> Vector3f;  // column-vector with 3 float entries\n",
    "```\n",
    "\n",
    "There are also row-vectors, say:\n",
    "\n",
    "```C++\n",
    "typedef Matrix<int, 1, 2> RowVector2i;  // row-vector with 2 integer entries\n",
    "```"
   ]
  },
  {
   "cell_type": "markdown",
   "metadata": {},
   "source": [
    "## Dynamic sizes"
   ]
  },
  {
   "cell_type": "markdown",
   "metadata": {},
   "source": [
    "All the previous case are called __fixed-size__, since one states the size of the `Matrix` at compile time. It is also possible to have __dynamic size__, which are determined at run-time. To do so, Eigen uses a special value called `Dynamic`. The combination of this value with `Matrix` produces the following convenience typedef, for example:\n",
    "\n",
    "```C++\n",
    "typedef Matrix<double, Dynamic, Dynamic> MatrixXd;\n",
    "typedef Matrix<float, Dynamic, Dynamic> MatrixXf;\n",
    "typedef Matrix<int, Dynamic, Dynamic> MatrixXi;\n",
    "```\n",
    "\n",
    "or, analogously for vectors, we have\n",
    "\n",
    "```C++\n",
    "typedef Matrix<double, Dynamic, 1> VectorXd;\n",
    "typedef Matrix<float, Dynamic, 1> VectorXf;\n",
    "typedef Matrix<int, Dynamic, 1> VectorXi;\n",
    "```\n",
    "\n",
    "Moreover, one can also have a fixed number of rows and dynamic column size just as\n",
    "\n",
    "```C++\n",
    "Matrix<double, 4, Dynamic>\n",
    "```\n",
    "\n",
    "There are other combinations, but above I provided the most useful for me."
   ]
  },
  {
   "cell_type": "markdown",
   "metadata": {},
   "source": [
    "## Constructors"
   ]
  },
  {
   "cell_type": "markdown",
   "metadata": {},
   "source": [
    "Constructors are always available and can be easily used just as:\n",
    "\n",
    "```C++\n",
    "Matrix3f a;\n",
    "MatrixXf b;\n",
    "```\n",
    "\n",
    "where\n",
    "\n",
    "* `a` is a unitialized 3x3 matrix for float entries;\n",
    "* `b` is a unitialized dynamic-size matrix. It is currently a 0x0 matrix and its coefficients hasn't yet been allocated.\n",
    "\n",
    "Alternatively, we could initialize with allocate array of coefficientes with a given size, for instance\n",
    "\n",
    "```C++\n",
    "MatrixXf c(10, 15);\n",
    "VectorXf d(15);\n",
    "```\n",
    "\n",
    "where  the first matrix index is the number of rows and the last are columns. Furthermore\n",
    "\n",
    "* `c` is a 10x15 dynamic-size matrix with allocated but currently unitialized coefficients;\n",
    "* `d` is a dynamic-size vector of size 30 with allocated but currently unitialized coefficients\n",
    "\n",
    "Eigen offers constructors to initialize small fixed-size vectors up to size 4:\n",
    "\n",
    "```C++\n",
    "Vector2d a(1.0, 2.0);\n",
    "Vector3d b(1.0, 2.0, 3.0);\n",
    "Vector4d c(1.0, 2.0, 3.0, 4.0);\n",
    "```"
   ]
  },
  {
   "cell_type": "markdown",
   "metadata": {},
   "source": [
    "## Element accessing"
   ]
  },
  {
   "cell_type": "markdown",
   "metadata": {},
   "source": [
    "To access elements in Matrix and Vector Eigen objects is pretty simple. As general rule, always use `operator()`, this will work as expected for both matrix and vector. Let's see it in practice:"
   ]
  },
  {
   "cell_type": "code",
   "execution_count": 2,
   "metadata": {},
   "outputs": [
    {
     "name": "stdout",
     "output_type": "stream",
     "text": [
      "-0.772314  0.210259\n",
      " 0.457044 -0.457555"
     ]
    }
   ],
   "source": [
    "Matrix2d matrix_1 = Matrix2d::Random();\n",
    "\n",
    "std::cout << matrix_1;"
   ]
  },
  {
   "cell_type": "markdown",
   "metadata": {},
   "source": [
    "We can simply access $(\\text{row}, \\text{col})$, say, for `row = 1` and `col = 0`, as"
   ]
  },
  {
   "cell_type": "code",
   "execution_count": 3,
   "metadata": {},
   "outputs": [
    {
     "data": {
      "text/plain": [
       "0.457044"
      ]
     },
     "execution_count": 3,
     "metadata": {},
     "output_type": "execute_result"
    }
   ],
   "source": [
    "matrix_1(1, 0)"
   ]
  },
  {
   "cell_type": "markdown",
   "metadata": {},
   "source": [
    "For vectors, the same is valid:"
   ]
  },
  {
   "cell_type": "code",
   "execution_count": 4,
   "metadata": {},
   "outputs": [
    {
     "name": "stdout",
     "output_type": "stream",
     "text": [
      "-0.0149801\n",
      "  0.372939\n",
      "-0.0518818"
     ]
    }
   ],
   "source": [
    "Vector3f vec_1 = Vector3f::Random();\n",
    "\n",
    "std::cout << vec_1;"
   ]
  },
  {
   "cell_type": "code",
   "execution_count": 5,
   "metadata": {},
   "outputs": [
    {
     "data": {
      "text/plain": [
       "0.37294f"
      ]
     },
     "execution_count": 5,
     "metadata": {},
     "output_type": "execute_result"
    }
   ],
   "source": [
    "vec_1(1)"
   ]
  },
  {
   "cell_type": "markdown",
   "metadata": {},
   "source": [
    "Or even with"
   ]
  },
  {
   "cell_type": "code",
   "execution_count": 6,
   "metadata": {},
   "outputs": [
    {
     "data": {
      "text/plain": [
       "0.37294f"
      ]
     },
     "execution_count": 6,
     "metadata": {},
     "output_type": "execute_result"
    }
   ],
   "source": [
    "vec_1[1]"
   ]
  },
  {
   "cell_type": "markdown",
   "metadata": {},
   "source": [
    "As a final remark on this topic, for matrix the accessing way `matrix(index)` works, but caution must be taken. This result in a index-based access in the array of coefficients. So, if you try `matrix(2)`, you will access the third element stored in `matrix`. By default, Eigen uses column-major storage order. It means that index-based numeration is performed over the columns, before from top to bottom, after left to right. Taking `matrix_1` as example:"
   ]
  },
  {
   "cell_type": "code",
   "execution_count": 7,
   "metadata": {},
   "outputs": [
    {
     "data": {
      "text/plain": [
       "0.210259"
      ]
     },
     "execution_count": 7,
     "metadata": {},
     "output_type": "execute_result"
    }
   ],
   "source": [
    "matrix_1(2)"
   ]
  },
  {
   "cell_type": "markdown",
   "metadata": {},
   "source": [
    "And the enumeration is:\n",
    "\n",
    "| index | matrix entry     |\n",
    "|:---   |     :---:        |\n",
    "| 0     |    (0, 0)        |\n",
    "| 1     |    (1, 0)        |\n",
    "| 2     |    (0, 1)        |\n",
    "| 3     |    (1, 1)        |"
   ]
  },
  {
   "cell_type": "markdown",
   "metadata": {},
   "source": [
    "## Initialization"
   ]
  },
  {
   "cell_type": "markdown",
   "metadata": {},
   "source": [
    "Matrix and vector coefficients can be initialized with a convenience comma-initialization fashion (see below)."
   ]
  },
  {
   "cell_type": "code",
   "execution_count": 8,
   "metadata": {},
   "outputs": [
    {
     "name": "stdout",
     "output_type": "stream",
     "text": [
      "1 2 3\n",
      "4 5 6\n",
      "7 8 9"
     ]
    }
   ],
   "source": [
    "Matrix3d matrix_2;\n",
    "matrix_2 << 1, 2, 3,\n",
    "            4, 5, 6,\n",
    "            7, 8, 9;\n",
    "\n",
    "std::cout << matrix_2;"
   ]
  }
 ],
 "metadata": {
  "kernelspec": {
   "display_name": "C++11",
   "language": "C++11",
   "name": "xeus-cling-cpp11"
  },
  "language_info": {
   "codemirror_mode": "text/x-c++src",
   "file_extension": ".cpp",
   "mimetype": "text/x-c++src",
   "name": "c++",
   "version": "-std=c++11"
  },
  "toc": {
   "base_numbering": 1,
   "nav_menu": {},
   "number_sections": true,
   "sideBar": true,
   "skip_h1_title": false,
   "title_cell": "Table of Contents",
   "title_sidebar": "Contents",
   "toc_cell": false,
   "toc_position": {},
   "toc_section_display": true,
   "toc_window_display": false
  }
 },
 "nbformat": 4,
 "nbformat_minor": 2
}
