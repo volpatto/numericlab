{
 "cells": [
  {
   "cell_type": "markdown",
   "metadata": {},
   "source": [
    "# Matrix and Vector operation"
   ]
  },
  {
   "cell_type": "markdown",
   "metadata": {},
   "source": [
    "Here, I will provide the basic operations for Eigen `Matrix` and `Vector`. The arithmetic is based upon C++ operator overloads such as `+`, `-` and `*`. Moreover, proper operations for linear algebra like `dot()`, `cross()`, etc are provided. For `Matrix` class, only operation which makes sense in Linear Algebra are allowed. For example, the sum of a scalar with a vector is not allowed. To perform general operations in a coefficient-wise manner, Eigen provides the `Array` class, which can be seem as a general-purpose arrays. This class will be explored in another notebook.\n",
    "\n",
    "As in previous notebooks, the material presented here is highly based on the [Eigen's official documentation](https://eigen.tuxfamily.org/dox/group__TutorialMatrixArithmetic.html), except for few modifications and adaptations."
   ]
  }
 ],
 "metadata": {
  "kernelspec": {
   "display_name": "C++11",
   "language": "C++11",
   "name": "xeus-cling-cpp11"
  },
  "language_info": {
   "codemirror_mode": "text/x-c++src",
   "file_extension": ".cpp",
   "mimetype": "text/x-c++src",
   "name": "c++",
   "version": "-std=c++11"
  },
  "toc": {
   "base_numbering": 1,
   "nav_menu": {},
   "number_sections": true,
   "sideBar": true,
   "skip_h1_title": false,
   "title_cell": "Table of Contents",
   "title_sidebar": "Contents",
   "toc_cell": false,
   "toc_position": {},
   "toc_section_display": true,
   "toc_window_display": false
  }
 },
 "nbformat": 4,
 "nbformat_minor": 2
}
