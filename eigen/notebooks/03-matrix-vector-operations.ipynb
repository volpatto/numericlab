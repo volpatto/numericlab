{
 "cells": [
  {
   "cell_type": "markdown",
   "metadata": {},
   "source": [
    "# Matrix and Vector operation"
   ]
  },
  {
   "cell_type": "markdown",
   "metadata": {},
   "source": [
    "Here, I will show the basic operations for Eigen `Matrix` and `Vector`. The arithmetic is based upon C++ operator overloads such as `+`, `-` and `*`. Moreover, proper operations for linear algebra like `dot()`, `cross()`, etc are provided. For `Matrix` class, only operation which makes sense in Linear Algebra are allowed. For example, the sum of a scalar with a vector is not allowed. To perform general operations in a coefficient-wise manner, Eigen provides the `Array` class, which can be seem as a general-purpose arrays. This class will be explored in another notebook.\n",
    "\n",
    "As in previous notebooks, the material presented here is highly based on the [Eigen's official documentation](https://eigen.tuxfamily.org/dox/group__TutorialMatrixArithmetic.html), except for few modifications and adaptations.\n",
    "\n",
    "Before anything, let's include the necessary headers and Eigen namespace:"
   ]
  },
  {
   "cell_type": "code",
   "execution_count": 1,
   "metadata": {},
   "outputs": [],
   "source": [
    "#include <iostream>\n",
    "#include <eigen3/Eigen/Dense>\n",
    "\n",
    "using namespace Eigen;"
   ]
  },
  {
   "cell_type": "markdown",
   "metadata": {},
   "source": [
    "## Addition and subtraction"
   ]
  },
  {
   "cell_type": "markdown",
   "metadata": {},
   "source": [
    "To perform addition and subtraction operations, the left and right size must have the same number of rows and columns, as well as the same `Scalar` type. Currently, there is no automatic promotion implemented in Eigen. The available operators are:\n",
    "\n",
    "* Binary operator `+` as in `a + b`;\n",
    "* Binary operator `-` as in `a - b`;\n",
    "* Unary operator `-` as in `-a`;\n",
    "* Compound operator `+=` as in `a += b`;\n",
    "* Compound operator `-=` as in `a -= b`.\n",
    "\n",
    "Let's see some examples."
   ]
  },
  {
   "cell_type": "code",
   "execution_count": 2,
   "metadata": {},
   "outputs": [],
   "source": [
    "Matrix2d mat1;\n",
    "mat1 << 1, 2,\n",
    "        3, 4;\n",
    "\n",
    "MatrixXd mat2(2, 2);\n",
    "mat2 << 2, 3,\n",
    "        1, 4;"
   ]
  },
  {
   "cell_type": "markdown",
   "metadata": {},
   "source": [
    "Simple addition:"
   ]
  },
  {
   "cell_type": "code",
   "execution_count": 3,
   "metadata": {},
   "outputs": [
    {
     "name": "stdout",
     "output_type": "stream",
     "text": [
      "mat1 + mat2 =\n",
      "3 5\n",
      "4 8"
     ]
    }
   ],
   "source": [
    "std::cout << \"mat1 + mat2 =\\n\" << mat1 + mat2;"
   ]
  },
  {
   "cell_type": "markdown",
   "metadata": {},
   "source": [
    "Subtraction:"
   ]
  },
  {
   "cell_type": "code",
   "execution_count": 4,
   "metadata": {},
   "outputs": [
    {
     "name": "stdout",
     "output_type": "stream",
     "text": [
      "mat1 - mat2 =\n",
      "-1 -1\n",
      " 2  0"
     ]
    }
   ],
   "source": [
    "std::cout << \"mat1 - mat2 =\\n\" << mat1 - mat2;"
   ]
  },
  {
   "cell_type": "markdown",
   "metadata": {},
   "source": [
    "Cummulative operator:"
   ]
  },
  {
   "cell_type": "code",
   "execution_count": 5,
   "metadata": {},
   "outputs": [
    {
     "name": "stdout",
     "output_type": "stream",
     "text": [
      "Doing mat1 += mat2\n",
      "Updated mat1 =\n",
      "3 5\n",
      "4 8"
     ]
    }
   ],
   "source": [
    "std::cout << \"Doing mat1 += mat2\\n\";\n",
    "\n",
    "mat1 += mat2;\n",
    "\n",
    "std::cout << \"Updated mat1 =\\n\" << mat1;"
   ]
  },
  {
   "cell_type": "markdown",
   "metadata": {},
   "source": [
    "Similar is valid for vectors, see:"
   ]
  },
  {
   "cell_type": "code",
   "execution_count": 6,
   "metadata": {},
   "outputs": [
    {
     "name": "stdout",
     "output_type": "stream",
     "text": [
      "-v + w - v =\n",
      "-1\n",
      "-4\n",
      "-6"
     ]
    }
   ],
   "source": [
    "Vector3d v, w;\n",
    "v << 1, 2, 3;\n",
    "w << 1, 0, 0;\n",
    "\n",
    "std::cout << \"-v + w - v =\\n\" << -v + w - v;"
   ]
  },
  {
   "cell_type": "markdown",
   "metadata": {},
   "source": [
    "## Multiplication and division by a scalar"
   ]
  },
  {
   "cell_type": "markdown",
   "metadata": {},
   "source": [
    "You can multiplicate a `Matrix` by a scalar, as well as perform some other operations. In summary, the available operations are:\n",
    "\n",
    "* Commutative binary operator `*` as in `scalar * matrix`;\n",
    "* Non-commutative binary operator `/` as in `matrix / scalar`;\n",
    "* Non-commutative compound operator `*=` as in `matrix *= scalar`;\n",
    "* Non-commutative compound operator `/=` as in `matrix /= scalar`;\n",
    "\n",
    "Some examples are shown below."
   ]
  },
  {
   "cell_type": "code",
   "execution_count": 7,
   "metadata": {},
   "outputs": [],
   "source": [
    "Matrix2d mat3;\n",
    "mat3 << 1, 2,\n",
    "        3, 4;\n",
    "\n",
    "Vector3d vec1(1, 2, 3);"
   ]
  },
  {
   "cell_type": "markdown",
   "metadata": {},
   "source": [
    "A `Matrix` multiplied by scalar:"
   ]
  },
  {
   "cell_type": "code",
   "execution_count": 8,
   "metadata": {},
   "outputs": [
    {
     "name": "stdout",
     "output_type": "stream",
     "text": [
      "mat3 * 2.5 =\n",
      "2.5   5\n",
      "7.5  10"
     ]
    }
   ],
   "source": [
    "std::cout << \"mat3 * 2.5 =\\n\" << mat3 * 2.5;"
   ]
  },
  {
   "cell_type": "markdown",
   "metadata": {},
   "source": [
    "A vector multiplied by a scalar:"
   ]
  },
  {
   "cell_type": "code",
   "execution_count": 9,
   "metadata": {},
   "outputs": [
    {
     "name": "stdout",
     "output_type": "stream",
     "text": [
      "0.1 * vec1 =\n",
      "0.1\n",
      "0.2\n",
      "0.3"
     ]
    }
   ],
   "source": [
    "std::cout << \"0.1 * vec1 =\\n\" << 0.1 * vec1;"
   ]
  },
  {
   "cell_type": "markdown",
   "metadata": {},
   "source": [
    "Cummulative multiplication:"
   ]
  },
  {
   "cell_type": "code",
   "execution_count": 10,
   "metadata": {},
   "outputs": [
    {
     "name": "stdout",
     "output_type": "stream",
     "text": [
      "Updated vec1 =\n",
      "2\n",
      "4\n",
      "6"
     ]
    }
   ],
   "source": [
    "vec1 *= 2;\n",
    "\n",
    "std::cout << \"Updated vec1 =\\n\" << vec1;"
   ]
  },
  {
   "cell_type": "markdown",
   "metadata": {},
   "source": [
    "A remark: caution is need when using the operators show above. They are valid only for `Matrix` and scalar. For instance, `vec1 *= vec1` is not possible. Moreover, watch out the non-commutative ones!"
   ]
  },
  {
   "cell_type": "markdown",
   "metadata": {},
   "source": [
    "## Quick note about expression templates"
   ]
  },
  {
   "cell_type": "markdown",
   "metadata": {},
   "source": [
    "This is an advanced topic, but it is worthy to mention here. \n",
    "\n",
    "In Eigen, all operations don't perform any computation by themselves, until the whole expression is evaluated, usually in `operator=`. This is used for optimize the code compilation. Any modern optimizing compiler is capable to handle it. For example, one can simply do:\n",
    "\n",
    "```C++\n",
    "VectorXf a(50), b(50), c(50), d(50);\n",
    "a = 3 * b + 4 * c + 5 * d;\n",
    "```\n",
    "\n",
    "Note that there is no need to perform the loop by hand! The compiler will do it for you. Behind the scenes, desconsidering SIMD instructions, the compiler will do a loop like this:\n",
    "\n",
    "```C++\n",
    "for (int i = 0; i < 50; ++i) a[i] = 3 * b[i] + 4 * c[i] + 5 * d[i];\n",
    "```\n",
    "\n",
    "Hence, no need to worry, let it be!"
   ]
  },
  {
   "cell_type": "markdown",
   "metadata": {},
   "source": [
    "## Transposition, conjugation and adjoint"
   ]
  },
  {
   "cell_type": "markdown",
   "metadata": {},
   "source": [
    "All the transposition, conjugation and adjoint of a `Matrix` object (matrices and vectors) are performed by member functions `transpose()`, `conjugate()` and `adjoint()`, respectively. See below some examples: "
   ]
  },
  {
   "cell_type": "markdown",
   "metadata": {},
   "source": [
    "Let's define a complex random `Matrix`:"
   ]
  },
  {
   "cell_type": "code",
   "execution_count": 11,
   "metadata": {},
   "outputs": [
    {
     "name": "stdout",
     "output_type": "stream",
     "text": [
      "The matrix matc:\n",
      "(0.254622,-0.606912) (-0.187187,0.783351)\n",
      "(-0.431943,-0.74263) (0.183727,-0.315103)"
     ]
    }
   ],
   "source": [
    "MatrixXcf matc = MatrixXcf::Random(2, 2);\n",
    "\n",
    "std::cout << \"The matrix matc:\\n\" << matc;"
   ]
  },
  {
   "cell_type": "markdown",
   "metadata": {},
   "source": [
    "The transpose:"
   ]
  },
  {
   "cell_type": "code",
   "execution_count": 12,
   "metadata": {},
   "outputs": [
    {
     "name": "stdout",
     "output_type": "stream",
     "text": [
      "matc transposed:\n",
      "(0.254622,-0.606912) (-0.431943,-0.74263)\n",
      "(-0.187187,0.783351) (0.183727,-0.315103)"
     ]
    }
   ],
   "source": [
    "std::cout << \"matc transposed:\\n\" << matc.transpose();"
   ]
  },
  {
   "cell_type": "markdown",
   "metadata": {},
   "source": [
    "The conjugation:"
   ]
  },
  {
   "cell_type": "code",
   "execution_count": 13,
   "metadata": {},
   "outputs": [
    {
     "name": "stdout",
     "output_type": "stream",
     "text": [
      "matc conjugation:\n",
      "  (0.254622,0.606912) (-0.187187,-0.783351)\n",
      "  (-0.431943,0.74263)   (0.183727,0.315103)"
     ]
    }
   ],
   "source": [
    "std::cout << \"matc conjugation:\\n\" << matc.conjugate();"
   ]
  },
  {
   "cell_type": "markdown",
   "metadata": {},
   "source": [
    "The adjoint:"
   ]
  },
  {
   "cell_type": "code",
   "execution_count": 14,
   "metadata": {},
   "outputs": [
    {
     "name": "stdout",
     "output_type": "stream",
     "text": [
      "matc adjoint:\n",
      "  (0.254622,0.606912)   (-0.431943,0.74263)\n",
      "(-0.187187,-0.783351)   (0.183727,0.315103)"
     ]
    }
   ],
   "source": [
    "std::cout << \"matc adjoint:\\n\" << matc.adjoint();"
   ]
  },
  {
   "cell_type": "markdown",
   "metadata": {},
   "source": [
    "Remember that for Real matrix, the conjugation is the matrix itself! Thus, the `adjoint()` is equivalent to `transpose()`.\n",
    "\n",
    "Another important remark is concerning __aliasing issue__. As you have a right-hand side expression assigned to a _lvalue_ variable, this operation is initialized before the evaluation! So, if you do `a = a.transpose()`, it will begin to write the results on `a` before the evaluation of the transpose is complete. So, doing `a = a.transpose()` you will not replace `a` by its transpose! If you want to circumvent such behavior, use the `transposeInPlace()`. Analogously, you could use `adjointInPlace()`."
   ]
  },
  {
   "cell_type": "markdown",
   "metadata": {},
   "source": [
    "## Matrix-matrix and matrix-vector multiplications"
   ]
  },
  {
   "cell_type": "markdown",
   "metadata": {},
   "source": [
    "To perform matrix-matrix multiplications, the `operator*` is used. Vectors are a special case of matrices, so it will be handled as well. Let's see some examples below:"
   ]
  },
  {
   "cell_type": "markdown",
   "metadata": {},
   "source": [
    "First, let's declare a matrix and two vectors:"
   ]
  },
  {
   "cell_type": "code",
   "execution_count": 15,
   "metadata": {},
   "outputs": [],
   "source": [
    "Matrix2d mat4;\n",
    "mat4 << 1, 2,\n",
    "        3, 4;\n",
    "\n",
    "Vector2d vec_u(-1, 1), vec_v(2, 0);"
   ]
  },
  {
   "cell_type": "markdown",
   "metadata": {},
   "source": [
    "* A matrix-matrix multiplication:"
   ]
  },
  {
   "cell_type": "code",
   "execution_count": 16,
   "metadata": {},
   "outputs": [
    {
     "name": "stdout",
     "output_type": "stream",
     "text": [
      "mat4 * mat4 =\n",
      " 7 10\n",
      "15 22"
     ]
    }
   ],
   "source": [
    "std::cout << \"mat4 * mat4 =\\n\" << mat4 * mat4;"
   ]
  },
  {
   "cell_type": "markdown",
   "metadata": {},
   "source": [
    "Note that this the classical matricial product. The lines of the left-hand side matrix are multiplied by the columns of right-hand side matrix."
   ]
  },
  {
   "cell_type": "markdown",
   "metadata": {},
   "source": [
    "* A matrix-vector multiplication:"
   ]
  },
  {
   "cell_type": "code",
   "execution_count": 17,
   "metadata": {},
   "outputs": [
    {
     "name": "stdout",
     "output_type": "stream",
     "text": [
      "mat4 * vec_u =\n",
      "1\n",
      "1"
     ]
    }
   ],
   "source": [
    "std::cout << \"mat4 * vec_u =\\n\" << mat4 * vec_u;"
   ]
  },
  {
   "cell_type": "markdown",
   "metadata": {},
   "source": [
    "This is the classical application of a matrix (linear operator) on a vector, generating a vector, just like $Ax = b$."
   ]
  },
  {
   "cell_type": "markdown",
   "metadata": {},
   "source": [
    "* A vector-vector multiplication:"
   ]
  },
  {
   "cell_type": "code",
   "execution_count": 18,
   "metadata": {},
   "outputs": [
    {
     "name": "stdout",
     "output_type": "stream",
     "text": [
      "vec_u * vec_v^T =\n",
      "-2 -0\n",
      " 2  0"
     ]
    }
   ],
   "source": [
    "std::cout << \"vec_u * vec_v^T =\\n\" << vec_u * vec_v.transpose();"
   ]
  },
  {
   "cell_type": "markdown",
   "metadata": {},
   "source": [
    "That is a somewhat unexpected behavior! You must recall that all `VectorXt`s are essentially `Matrix`, so the same multiplication rules are applied. Furthermore, always remember that vectors in Eigen are column-vectors! Hence, to obtain a proper multiplication in the sense of linear algebra, we can do it as"
   ]
  },
  {
   "cell_type": "code",
   "execution_count": 19,
   "metadata": {},
   "outputs": [
    {
     "name": "stdout",
     "output_type": "stream",
     "text": [
      "vec_u^T * vec_v =\n",
      "-2"
     ]
    }
   ],
   "source": [
    "std::cout << \"vec_u^T * vec_v =\\n\" << vec_u.transpose() * vec_v;"
   ]
  },
  {
   "cell_type": "markdown",
   "metadata": {},
   "source": [
    "A remarkable feature of the matrix-matrix multiplication is that the aliasing issue is automatically circumvented. Eigen treats such multiplications as special cases! So, you can do something like this:"
   ]
  },
  {
   "cell_type": "code",
   "execution_count": 20,
   "metadata": {},
   "outputs": [
    {
     "name": "stdout",
     "output_type": "stream",
     "text": [
      " 7 10\n",
      "15 22"
     ]
    }
   ],
   "source": [
    "mat4 = mat4 * mat4;\n",
    "\n",
    "std::cout << mat4;"
   ]
  },
  {
   "cell_type": "markdown",
   "metadata": {},
   "source": [
    "Behind the scenes, Eigen creates a temporary object for `Matrix`, so no need to worry!"
   ]
  },
  {
   "cell_type": "markdown",
   "metadata": {},
   "source": [
    "## Dot and cross product"
   ]
  },
  {
   "cell_type": "markdown",
   "metadata": {},
   "source": [
    "We will use the previous vectors. So let's remember their values:"
   ]
  },
  {
   "cell_type": "code",
   "execution_count": 21,
   "metadata": {},
   "outputs": [
    {
     "name": "stdout",
     "output_type": "stream",
     "text": [
      "vec_u =\n",
      "-1\n",
      " 1\n",
      "vec_v =\n",
      "2\n",
      "0\n"
     ]
    }
   ],
   "source": [
    "std::cout << \"vec_u =\\n\" << vec_u << std::endl;\n",
    "std::cout << \"vec_v =\\n\" << vec_v << std::endl;"
   ]
  },
  {
   "cell_type": "markdown",
   "metadata": {},
   "source": [
    "Now we'll see some action:"
   ]
  },
  {
   "cell_type": "markdown",
   "metadata": {},
   "source": [
    "* Dot product:"
   ]
  },
  {
   "cell_type": "code",
   "execution_count": 22,
   "metadata": {},
   "outputs": [
    {
     "name": "stdout",
     "output_type": "stream",
     "text": [
      "Dot product vec_u by vec_v: -2"
     ]
    }
   ],
   "source": [
    "std::cout << \"Dot product vec_u by vec_v: \" << vec_u.dot(vec_v);"
   ]
  },
  {
   "cell_type": "markdown",
   "metadata": {},
   "source": [
    "which is, as one must expect, the same as `vec_u^T * vec_v`."
   ]
  },
  {
   "cell_type": "markdown",
   "metadata": {},
   "source": [
    "* Cross product:"
   ]
  },
  {
   "cell_type": "markdown",
   "metadata": {},
   "source": [
    "For this one, we need 3D vectors, since this is the space where cross product is well defined."
   ]
  },
  {
   "cell_type": "code",
   "execution_count": 23,
   "metadata": {},
   "outputs": [
    {
     "name": "stdout",
     "output_type": "stream",
     "text": [
      "Cross product vec_w by vec_z:\n",
      " 1\n",
      "-2\n",
      " 1"
     ]
    }
   ],
   "source": [
    "Vector3d vec_w(1, 2, 3), vec_z(0, 1, 2);\n",
    "\n",
    "std::cout << \"Cross product vec_w by vec_z:\\n\" << vec_w.cross(vec_z);"
   ]
  },
  {
   "cell_type": "markdown",
   "metadata": {},
   "source": [
    "An important point: In Tensor Algebra, dot product are defined in high order tensors as well. In Eigen, using only `Matrix` makes the aforementioned operation unavailable in the tensor algebra sense."
   ]
  },
  {
   "cell_type": "markdown",
   "metadata": {},
   "source": [
    "## Basic arithmetic reduction operations"
   ]
  },
  {
   "cell_type": "markdown",
   "metadata": {},
   "source": [
    "Some convenience reduction operations are provided be Eigen. This operations reduces a matrix or vector to a single value, such as the sum of the entries of a vector, or the maximum coefficient value in a matrix. Let's see this operations below."
   ]
  },
  {
   "cell_type": "code",
   "execution_count": 24,
   "metadata": {},
   "outputs": [],
   "source": [
    "Matrix2d mat5;\n",
    "mat5 << 1, 2, 3, 4;"
   ]
  },
  {
   "cell_type": "markdown",
   "metadata": {},
   "source": [
    "* Cummulative sum of the entries:"
   ]
  },
  {
   "cell_type": "code",
   "execution_count": 25,
   "metadata": {},
   "outputs": [
    {
     "name": "stdout",
     "output_type": "stream",
     "text": [
      "mat5.sum() = 10"
     ]
    }
   ],
   "source": [
    "std::cout << \"mat5.sum() = \" << mat5.sum();"
   ]
  },
  {
   "cell_type": "markdown",
   "metadata": {},
   "source": [
    "* Cummulative product of the entries:"
   ]
  },
  {
   "cell_type": "code",
   "execution_count": 26,
   "metadata": {},
   "outputs": [
    {
     "name": "stdout",
     "output_type": "stream",
     "text": [
      "vec_w.prod() = 6"
     ]
    }
   ],
   "source": [
    "std::cout << \"vec_w.prod() = \" << vec_w.prod();"
   ]
  },
  {
   "cell_type": "markdown",
   "metadata": {},
   "source": [
    "* Mean of the entry values in a `Matrix` or `Vector`:"
   ]
  },
  {
   "cell_type": "code",
   "execution_count": 27,
   "metadata": {},
   "outputs": [
    {
     "name": "stdout",
     "output_type": "stream",
     "text": [
      "mat5.mean() = 2.5"
     ]
    }
   ],
   "source": [
    "std::cout << \"mat5.mean() = \" << mat5.mean();"
   ]
  },
  {
   "cell_type": "markdown",
   "metadata": {},
   "source": [
    "* Minimum coefficient value:"
   ]
  },
  {
   "cell_type": "code",
   "execution_count": 28,
   "metadata": {},
   "outputs": [
    {
     "name": "stdout",
     "output_type": "stream",
     "text": [
      "vec_u.minCoeff() = -1"
     ]
    }
   ],
   "source": [
    "std::cout << \"vec_u.minCoeff() = \" << vec_u.minCoeff();"
   ]
  },
  {
   "cell_type": "markdown",
   "metadata": {},
   "source": [
    "* Maximum coefficient value:"
   ]
  },
  {
   "cell_type": "code",
   "execution_count": 29,
   "metadata": {},
   "outputs": [
    {
     "name": "stdout",
     "output_type": "stream",
     "text": [
      "vec_v.maxCoeff() = 2\n",
      "mat5.maxCoeff() = 4"
     ]
    }
   ],
   "source": [
    "std::cout << \"vec_v.maxCoeff() = \" << vec_v.maxCoeff() << std::endl;\n",
    "std::cout << \"mat5.maxCoeff() = \" << mat5.maxCoeff();"
   ]
  },
  {
   "cell_type": "markdown",
   "metadata": {},
   "source": [
    "* Trace of a Matrix (the sum of the values on the diagonal):"
   ]
  },
  {
   "cell_type": "code",
   "execution_count": 30,
   "metadata": {},
   "outputs": [
    {
     "name": "stdout",
     "output_type": "stream",
     "text": [
      "mat5.trace() = 5"
     ]
    }
   ],
   "source": [
    "std::cout << \"mat5.trace() = \" << mat5.trace();"
   ]
  },
  {
   "cell_type": "markdown",
   "metadata": {},
   "source": [
    "## Validity of Operations\n",
    "\n",
    "By means of internal assertings, Eigen checks the validity of operations and compatibility between operands. When is possible, it is check at compile time. In some cases, specially when using dynamic-size `Matrix`, compile time check is not possible, so the check is performed in run-time, using assertions. Let's see two quickly examples:\n",
    "\n",
    "* Compile time check:\n",
    "```C++\n",
    "Matrix3f m;\n",
    "Matrix4f v;\n",
    "// ...some calculations here...\n",
    "v = m * v;  // Compile-time error! Different sizes.\n",
    "```\n",
    "\n",
    "* Run-time check:\n",
    "```C++\n",
    "MatrixXf m(3,3);\n",
    "VectorXf v(4);\n",
    "v = m * v;  // Run-time error! Incompatible dimensions for product.\n",
    "```\n",
    "\n",
    "For further details, check it [here](https://eigen.tuxfamily.org/dox/TopicAssertions.html)."
   ]
  }
 ],
 "metadata": {
  "kernelspec": {
   "display_name": "C++14",
   "language": "C++14",
   "name": "xeus-cling-cpp14"
  },
  "language_info": {
   "codemirror_mode": "text/x-c++src",
   "file_extension": ".cpp",
   "mimetype": "text/x-c++src",
   "name": "c++",
   "version": "-std=c++14"
  },
  "toc": {
   "base_numbering": 1,
   "nav_menu": {},
   "number_sections": true,
   "sideBar": true,
   "skip_h1_title": false,
   "title_cell": "Table of Contents",
   "title_sidebar": "Contents",
   "toc_cell": false,
   "toc_position": {},
   "toc_section_display": true,
   "toc_window_display": false
  }
 },
 "nbformat": 4,
 "nbformat_minor": 2
}
