{
 "cells": [
  {
   "cell_type": "markdown",
   "metadata": {},
   "source": [
    "# The `Array` class"
   ]
  },
  {
   "cell_type": "markdown",
   "metadata": {},
   "source": [
    "The `Array` template class is very similar to `Matrix` class. However, the former is capable of perform coefficient-wise operations in a fashion that does not makes sense for Linear Algebra, while the last must respect all Linear Algebra requirements. I will provide a brief overview of `Array` class and its the main features.\n",
    "\n",
    "As usual, all the text is heavily based -- sometimes entirily copied -- from the [Eigen's documentation](https://eigen.tuxfamily.org/dox/group__TutorialArrayClass.html)."
   ]
  },
  {
   "cell_type": "markdown",
   "metadata": {},
   "source": [
    "First of all, let's include our necessary libs:"
   ]
  },
  {
   "cell_type": "code",
   "execution_count": 1,
   "metadata": {},
   "outputs": [],
   "source": [
    "#include <iostream>\n",
    "#include <eigen3/Eigen/Dense>\n",
    "\n",
    "using namespace Eigen;"
   ]
  },
  {
   "cell_type": "markdown",
   "metadata": {},
   "source": [
    "## Array types"
   ]
  },
  {
   "cell_type": "markdown",
   "metadata": {},
   "source": [
    "As aforecited, the `Array` class is quite similar to `Matrix` class. The template parameters are the same and, like `Matrix`, the first three parameters are mandatory. Just a recall, the `Array` class has:\n",
    "\n",
    "```C++\n",
    "Array<typename Scalar, int RowsAtCompileTime, int ColsAtCompileTime>\n",
    "```\n",
    "\n",
    "The last three parameters are omitted, but they are the same as for `Matrix` (see `matrix-class.ipynb`).\n",
    "\n",
    "Eigen provides some convenience `typedef`s for `Array`s as well. Nonetheless, there are some differences. For 1D arrays, the pattern `ArrayNt` is used, where `N` and `t` are the size and the scalar type, respectively. For 2D arrays, the pattern is `ArrayNNt`, explicit saying the size of the two dimensions. See some examples below. The initialization is the same as for `Matrix`."
   ]
  },
  {
   "cell_type": "code",
   "execution_count": 2,
   "metadata": {},
   "outputs": [
    {
     "name": "stdout",
     "output_type": "stream",
     "text": [
      "arr1 =\n",
      "-0.822184\n",
      "-0.901264\n",
      " 0.478147"
     ]
    }
   ],
   "source": [
    "ArrayXd arr1 = ArrayXd::Random(3);\n",
    "\n",
    "std::cout << \"arr1 =\\n\" << arr1;"
   ]
  },
  {
   "cell_type": "code",
   "execution_count": 3,
   "metadata": {},
   "outputs": [
    {
     "name": "stdout",
     "output_type": "stream",
     "text": [
      "arr2 =\n",
      "1 2 3\n",
      "4 5 6\n",
      "7 8 9"
     ]
    }
   ],
   "source": [
    "Array33f arr2;\n",
    "arr2 << 1, 2, 3,\n",
    "        4, 5, 6,\n",
    "        7, 8, 9;\n",
    "\n",
    "std::cout << \"arr2 =\\n\" << arr2;"
   ]
  },
  {
   "cell_type": "code",
   "execution_count": 4,
   "metadata": {},
   "outputs": [
    {
     "name": "stdout",
     "output_type": "stream",
     "text": [
      "arr3 =\n",
      "-0.310702\n",
      "-0.558706"
     ]
    }
   ],
   "source": [
    "auto arr3 = (Array2f::Random(2)).eval();\n",
    "\n",
    "std::cout << \"arr3 =\\n\" << arr3;"
   ]
  },
  {
   "cell_type": "markdown",
   "metadata": {},
   "source": [
    "## Accessing values"
   ]
  },
  {
   "cell_type": "markdown",
   "metadata": {},
   "source": [
    "As for `Matrix`, (overloaded) parenthesis operator is provided to write and read the coefficients of an array."
   ]
  },
  {
   "cell_type": "code",
   "execution_count": 5,
   "metadata": {},
   "outputs": [
    {
     "name": "stdout",
     "output_type": "stream",
     "text": [
      "Element (1, 1) of arr4 is -0.792365\n",
      "and the whole arr4 is:\n",
      "-0.0966353    0.75334\n",
      "  0.836321  -0.792365"
     ]
    }
   ],
   "source": [
    "Array22f arr4 = Array22f::Random();\n",
    "\n",
    "std::cout << \"Element (1, 1) of arr4 is \" << arr4(1, 1) << std::endl;\n",
    "std::cout << \"and the whole arr4 is:\\n\" << arr4;"
   ]
  },
  {
   "cell_type": "markdown",
   "metadata": {},
   "source": [
    "And defining an array:"
   ]
  },
  {
   "cell_type": "code",
   "execution_count": 6,
   "metadata": {},
   "outputs": [
    {
     "name": "stdout",
     "output_type": "stream",
     "text": [
      "arr5 =\n",
      " 2 -2\n",
      " 1 -5"
     ]
    }
   ],
   "source": [
    "ArrayXXd arr5(2, 2);\n",
    "\n",
    "arr5(0, 0) = 2; arr5(0, 1) = -arr5(0, 0);\n",
    "arr5(1, 0) = 1; arr5(1, 1) = arr5(0, 0) * arr5(0, 1) - arr5(1, 0);\n",
    "\n",
    "std::cout << \"arr5 =\\n\" << arr5;"
   ]
  },
  {
   "cell_type": "markdown",
   "metadata": {},
   "source": [
    "## Addition and subtraction"
   ]
  },
  {
   "cell_type": "markdown",
   "metadata": {},
   "source": [
    "This operations remain the same as for `Matrix`. The only requirement is that arrays under operations have the same size, so the addition or subtraction is performed coefficient-wise."
   ]
  },
  {
   "cell_type": "code",
   "execution_count": 7,
   "metadata": {},
   "outputs": [
    {
     "name": "stdout",
     "output_type": "stream",
     "text": [
      "arr6 + arr7 =\n",
      " 2  4  6\n",
      " 5  7  9\n",
      " 8 10 12"
     ]
    }
   ],
   "source": [
    "ArrayXXf arr6(3, 3), arr7(3, 3);\n",
    "\n",
    "arr6 << 1, 2, 3, 4, 5, 6, 7, 8, 9;\n",
    "arr7 << 1, 2, 3,\n",
    "        1, 2, 3,\n",
    "        1, 2, 3;\n",
    "\n",
    "std::cout << \"arr6 + arr7 =\\n\" << arr6 + arr7;"
   ]
  },
  {
   "cell_type": "markdown",
   "metadata": {},
   "source": [
    "A feature which is not directly available for `Matrix` is the addition of a scalar into an array. This is done in coefficient-wise manner. See:"
   ]
  },
  {
   "cell_type": "code",
   "execution_count": 8,
   "metadata": {},
   "outputs": [
    {
     "name": "stdout",
     "output_type": "stream",
     "text": [
      "arr6 - 2 =\n",
      "-1  0  1\n",
      " 2  3  4\n",
      " 5  6  7"
     ]
    }
   ],
   "source": [
    "std::cout << \"arr6 - 2 =\\n\" << arr6 - 2;"
   ]
  },
  {
   "cell_type": "markdown",
   "metadata": {},
   "source": [
    "## Array multiplication"
   ]
  },
  {
   "cell_type": "markdown",
   "metadata": {},
   "source": [
    "The multiplication of an `Array` by a scalar is the same as for `Matrix`. However, when you multiply two `Array`s, the behavior is not the same as if you multiply two `Matrix`s! For the last, multiplication is interpreted as \"matrix product\", while for `Array`s it is a coefficient-wise product. See below:"
   ]
  },
  {
   "cell_type": "code",
   "execution_count": 9,
   "metadata": {},
   "outputs": [],
   "source": [
    "Array22d arr8, arr9;\n",
    "Matrix2d mat1, mat2;\n",
    "\n",
    "// Array version\n",
    "arr8 << 1, 2,\n",
    "        3, 4;\n",
    "arr9 << 5, 6,\n",
    "        7, 8;\n",
    "\n",
    "// Matrix version\n",
    "mat1 << 1, 2,\n",
    "        3, 4;\n",
    "mat2 << 5, 6,\n",
    "        7, 8;"
   ]
  },
  {
   "cell_type": "markdown",
   "metadata": {},
   "source": [
    "* Array multiplication:"
   ]
  },
  {
   "cell_type": "code",
   "execution_count": 10,
   "metadata": {},
   "outputs": [
    {
     "name": "stdout",
     "output_type": "stream",
     "text": [
      "arr8 * arr9 =\n",
      " 5 12\n",
      "21 32"
     ]
    }
   ],
   "source": [
    "std::cout << \"arr8 * arr9 =\\n\" << arr8 * arr9;"
   ]
  },
  {
   "cell_type": "markdown",
   "metadata": {},
   "source": [
    "* Matrix multiplication:"
   ]
  },
  {
   "cell_type": "code",
   "execution_count": 11,
   "metadata": {},
   "outputs": [
    {
     "name": "stdout",
     "output_type": "stream",
     "text": [
      "mat1 * mat2 =\n",
      "19 22\n",
      "43 50"
     ]
    }
   ],
   "source": [
    "std::cout << \"mat1 * mat2 =\\n\" << mat1 * mat2;"
   ]
  },
  {
   "cell_type": "markdown",
   "metadata": {},
   "source": [
    "Note that for array multiplication, the dimension of the arrays must match!"
   ]
  },
  {
   "cell_type": "markdown",
   "metadata": {},
   "source": [
    "## Other coefficient-wise operations"
   ]
  },
  {
   "cell_type": "markdown",
   "metadata": {},
   "source": [
    "In fact, all operations over `Array`s are done coefficient-wise, including methods. Thus, every operation/method will be performed in a coefficient-wise manner. Check the example below:"
   ]
  },
  {
   "cell_type": "code",
   "execution_count": 12,
   "metadata": {},
   "outputs": [
    {
     "name": "stdout",
     "output_type": "stream",
     "text": [
      "arr10 =\n",
      "  -0.97963\n",
      "-0.0537447\n",
      " -0.502334\n",
      " -0.591508\n",
      " 0.0161358"
     ]
    }
   ],
   "source": [
    "ArrayXf arr10 = ArrayXf::Random(5);\n",
    "\n",
    "std::cout << \"arr10 =\\n\" << arr10;"
   ]
  },
  {
   "cell_type": "markdown",
   "metadata": {},
   "source": [
    "*  Absolute value of the entries:"
   ]
  },
  {
   "cell_type": "code",
   "execution_count": 13,
   "metadata": {},
   "outputs": [
    {
     "name": "stdout",
     "output_type": "stream",
     "text": [
      "abs(arr10) =\n",
      "  0.97963\n",
      "0.0537447\n",
      " 0.502334\n",
      " 0.591508\n",
      "0.0161358"
     ]
    }
   ],
   "source": [
    "std::cout << \"abs(arr10) =\\n\" << arr10.abs();"
   ]
  },
  {
   "cell_type": "markdown",
   "metadata": {},
   "source": [
    "* The square of the absolute values:"
   ]
  },
  {
   "cell_type": "code",
   "execution_count": 14,
   "metadata": {},
   "outputs": [
    {
     "name": "stdout",
     "output_type": "stream",
     "text": [
      "sqrt(abs(arr10)) =\n",
      "0.989763\n",
      "0.231829\n",
      "0.708755\n",
      "0.769095\n",
      "0.127027"
     ]
    }
   ],
   "source": [
    "std::cout << \"sqrt(abs(arr10)) =\\n\" << arr10.abs().sqrt();"
   ]
  },
  {
   "cell_type": "markdown",
   "metadata": {},
   "source": [
    "* The min values in each entry of two arrays:"
   ]
  },
  {
   "cell_type": "code",
   "execution_count": 15,
   "metadata": {},
   "outputs": [
    {
     "name": "stdout",
     "output_type": "stream",
     "text": [
      "min entries =\n",
      "  -0.97963\n",
      "-0.0537447\n",
      " -0.502334\n",
      " -0.591508\n",
      " 0.0161358"
     ]
    }
   ],
   "source": [
    "auto arr11 = arr10.abs().sqrt();\n",
    "\n",
    "std::cout << \"min entries =\\n\" << arr10.min(arr11);"
   ]
  },
  {
   "cell_type": "markdown",
   "metadata": {},
   "source": [
    "A list with coefficient-wise operations can be found in the [Eigen documentation](https://eigen.tuxfamily.org/dox/group__QuickRefPage.html)."
   ]
  },
  {
   "cell_type": "markdown",
   "metadata": {},
   "source": [
    "## Converting between `Array` and `Matrix` expressions"
   ]
  },
  {
   "cell_type": "markdown",
   "metadata": {},
   "source": [
    "Sometimes you may want to operate like `Array`, in a coefficient-wise fashion, and other times you may need to operate as `Matrix`, in a Linear Algebra context. If this is the case, Eigen provide methods to convert `Array` expressions in `Matrix` expressions and vice-versa. `Array` expressions have the method `.matrix()`, while `Matrix` expressions have `.array()`. Through these methods, you can access all necessary methods which are proper to each class! Let's see a quick example comparing multiplications:"
   ]
  },
  {
   "cell_type": "markdown",
   "metadata": {},
   "source": [
    "* A regular matrix multiplication:"
   ]
  },
  {
   "cell_type": "code",
   "execution_count": 16,
   "metadata": {},
   "outputs": [
    {
     "name": "stdout",
     "output_type": "stream",
     "text": [
      "a * b =\n",
      "19 22\n",
      "43 50"
     ]
    }
   ],
   "source": [
    "MatrixXf a(2, 2), b(2, 2);\n",
    "\n",
    "a << 1, 2,\n",
    "     3, 4;\n",
    "b << 5, 6,\n",
    "     7, 8;\n",
    "\n",
    "std::cout << \"a * b =\\n\" << a * b; "
   ]
  },
  {
   "cell_type": "markdown",
   "metadata": {},
   "source": [
    "* A component-wise multiplication through convertion to array:"
   ]
  },
  {
   "cell_type": "code",
   "execution_count": 17,
   "metadata": {},
   "outputs": [
    {
     "name": "stdout",
     "output_type": "stream",
     "text": [
      "a * b =\n",
      " 5 12\n",
      "21 32"
     ]
    }
   ],
   "source": [
    "std::cout << \"a * b =\\n\" << a.array() * b.array();"
   ]
  },
  {
   "cell_type": "markdown",
   "metadata": {},
   "source": [
    "* Alternative way to perform coefficient-wise operations with prefix `cwise` in `Matrix`'s methods:"
   ]
  },
  {
   "cell_type": "code",
   "execution_count": 18,
   "metadata": {},
   "outputs": [
    {
     "name": "stdout",
     "output_type": "stream",
     "text": [
      "a * b =\n",
      " 5 12\n",
      "21 32"
     ]
    }
   ],
   "source": [
    "std::cout << \"a * b =\\n\" << a.cwiseProduct(b);"
   ]
  },
  {
   "cell_type": "markdown",
   "metadata": {},
   "source": [
    "This last example show a very useful way to perform coefficient-wise operations. Some of the coefficient-wise methods can be accessed by `Matrix` expressions just considering the prefix `cwise`. See the documentation for available methods.\n",
    "\n",
    "Analogously, you can convert `Array`s. For instance:"
   ]
  },
  {
   "cell_type": "code",
   "execution_count": 19,
   "metadata": {},
   "outputs": [
    {
     "name": "stdout",
     "output_type": "stream",
     "text": [
      "c * d =\n",
      " 5 12\n",
      "21 32"
     ]
    }
   ],
   "source": [
    "ArrayXXf c(2, 2), d(2, 2);\n",
    "\n",
    "c << 1, 2,\n",
    "     3, 4;\n",
    "d << 5, 6,\n",
    "     7, 8;\n",
    "\n",
    "std::cout << \"c * d =\\n\" << c * d; "
   ]
  },
  {
   "cell_type": "markdown",
   "metadata": {},
   "source": [
    "Now converted:"
   ]
  },
  {
   "cell_type": "code",
   "execution_count": 20,
   "metadata": {},
   "outputs": [
    {
     "name": "stdout",
     "output_type": "stream",
     "text": [
      "c * d =\n",
      "19 22\n",
      "43 50"
     ]
    }
   ],
   "source": [
    "std::cout << \"c * d =\\n\" << a.matrix() * b.matrix();"
   ]
  },
  {
   "cell_type": "markdown",
   "metadata": {},
   "source": [
    "Such conversions can occurs in any expressions. But be aware that Eigen forbids operations between `Array` objects and `Matrix` objects. You must convert all operands to a same object class."
   ]
  },
  {
   "cell_type": "markdown",
   "metadata": {},
   "source": [
    "It also works in 1D arrays:"
   ]
  },
  {
   "cell_type": "code",
   "execution_count": 21,
   "metadata": {},
   "outputs": [
    {
     "name": "stdout",
     "output_type": "stream",
     "text": [
      "test =\n",
      "1\n",
      "2"
     ]
    }
   ],
   "source": [
    "ArrayXd test(2);\n",
    "test << 1, 2;\n",
    "\n",
    "std::cout << \"test =\\n\" << test;"
   ]
  },
  {
   "cell_type": "code",
   "execution_count": 22,
   "metadata": {},
   "outputs": [
    {
     "name": "stdout",
     "output_type": "stream",
     "text": [
      "test as matrix (vector) =\n",
      "1\n",
      "2"
     ]
    }
   ],
   "source": [
    "std::cout << \"test as matrix (vector) =\\n\" << test.matrix();"
   ]
  }
 ],
 "metadata": {
  "kernelspec": {
   "display_name": "C++14",
   "language": "C++14",
   "name": "xcpp14"
  },
  "language_info": {
   "codemirror_mode": "text/x-c++src",
   "file_extension": ".cpp",
   "mimetype": "text/x-c++src",
   "name": "c++",
   "version": "-std=c++14"
  },
  "toc": {
   "base_numbering": 1,
   "nav_menu": {},
   "number_sections": true,
   "sideBar": true,
   "skip_h1_title": false,
   "title_cell": "Table of Contents",
   "title_sidebar": "Contents",
   "toc_cell": false,
   "toc_position": {},
   "toc_section_display": true,
   "toc_window_display": false
  }
 },
 "nbformat": 4,
 "nbformat_minor": 2
}
