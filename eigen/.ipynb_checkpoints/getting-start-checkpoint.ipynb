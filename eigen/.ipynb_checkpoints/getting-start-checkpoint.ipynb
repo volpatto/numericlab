{
 "cells": [
  {
   "cell_type": "markdown",
   "metadata": {},
   "source": [
    "# Getting start with Eigen3\n",
    "\n",
    "This notebooks basicaly reproduces (in a notebook) the [Eigen's Getting Start page](https://eigen.tuxfamily.org/dox/GettingStarted.html) with few modifications. Here, I will not concerned about installing, building and running, since I'm using notebooks to exemplify usage aspects only."
   ]
  },
  {
   "cell_type": "markdown",
   "metadata": {},
   "source": [
    "## Example 1: a simple first program"
   ]
  },
  {
   "cell_type": "markdown",
   "metadata": {},
   "source": [
    "First, we link the proper header files:"
   ]
  },
  {
   "cell_type": "code",
   "execution_count": 1,
   "metadata": {},
   "outputs": [],
   "source": [
    "#include <iostream>\n",
    "#include <eigen3/Eigen/Dense>"
   ]
  },
  {
   "cell_type": "markdown",
   "metadata": {},
   "source": [
    "Since that Eigen header file defines several types, as starting point I'm only interest in `MatrixXd`, which is a matrix of arbitrary size `X` size), where every entry is a double (hence the `d` in the suffix) . So, let's get what we need:"
   ]
  },
  {
   "cell_type": "code",
   "execution_count": 2,
   "metadata": {},
   "outputs": [],
   "source": [
    "using Eigen::MatrixXd;"
   ]
  },
  {
   "cell_type": "markdown",
   "metadata": {},
   "source": [
    "A first point to note is that the include procedure employed here slightly differs from the official documentation. This is due to the way we build Eigen within a Conda Environment. No need to worry!"
   ]
  },
  {
   "cell_type": "markdown",
   "metadata": {},
   "source": [
    "Below, we declare a matrix and assign values to it:"
   ]
  },
  {
   "cell_type": "code",
   "execution_count": 3,
   "metadata": {},
   "outputs": [
    {
     "name": "stdout",
     "output_type": "stream",
     "text": [
      "  3  -1\n",
      "2.5 1.5"
     ]
    }
   ],
   "source": [
    "MatrixXd matrix_1(2,2);  // a matrix with 2 rows and 2 cols\n",
    "\n",
    "matrix_1(0, 0) = 3;\n",
    "matrix_1(1, 0) = 2.5;\n",
    "matrix_1(0, 1) = -1;\n",
    "matrix_1(1, 1) = matrix_1(1, 0) + matrix_1(0, 1);\n",
    "\n",
    "std::cout << matrix_1;"
   ]
  },
  {
   "cell_type": "markdown",
   "metadata": {},
   "source": [
    "Initializing looks pretty simple!"
   ]
  },
  {
   "cell_type": "markdown",
   "metadata": {},
   "source": [
    "## Example 2: Matrices and vectors"
   ]
  },
  {
   "cell_type": "markdown",
   "metadata": {},
   "source": [
    "Let's consider another example. Herein, for simplicity's sake (and lesser amount of code), I will use the desired namespace:"
   ]
  },
  {
   "cell_type": "code",
   "execution_count": 4,
   "metadata": {},
   "outputs": [],
   "source": [
    "using namespace Eigen;"
   ]
  },
  {
   "cell_type": "markdown",
   "metadata": {},
   "source": [
    "Below, I define a $(3, 3)$-matrix with random entries and a 3D-vector:"
   ]
  },
  {
   "cell_type": "code",
   "execution_count": 5,
   "metadata": {},
   "outputs": [
    {
     "name": "stdout",
     "output_type": "stream",
     "text": [
      "matrix_2 =\n",
      "44.7199 54.0069  78.737\n",
      "18.5612 66.1785  105.06\n",
      "86.8038 71.4299 25.6172"
     ]
    }
   ],
   "source": [
    "// Initializing\n",
    "MatrixXd matrix_2 = MatrixXd::Random(3, 3);\n",
    "\n",
    "// A linear mapping\n",
    "matrix_2 = (matrix_2 + MatrixXd::Constant(3, 3, 1.2)) * 50;\n",
    "\n",
    "std::cout << \"matrix_2 =\" << std::endl << matrix_2;"
   ]
  },
  {
   "cell_type": "code",
   "execution_count": 6,
   "metadata": {},
   "outputs": [
    {
     "name": "stdout",
     "output_type": "stream",
     "text": [
      "matrix_2 * vector_1 =\n",
      "388.945\n",
      "466.097\n",
      "306.515"
     ]
    }
   ],
   "source": [
    "VectorXd vector_1(3);\n",
    "vector_1 << 1, 2, 3;  // note that this is a way to initialize\n",
    "\n",
    "std::cout << \"matrix_2 * vector_1 =\" << std::endl << matrix_2 * vector_1;"
   ]
  }
 ],
 "metadata": {
  "kernelspec": {
   "display_name": "C++11",
   "language": "C++11",
   "name": "xeus-cling-cpp11"
  },
  "language_info": {
   "codemirror_mode": "text/x-c++src",
   "file_extension": ".cpp",
   "mimetype": "text/x-c++src",
   "name": "c++",
   "version": "-std=c++11"
  },
  "toc": {
   "base_numbering": 1,
   "nav_menu": {},
   "number_sections": true,
   "sideBar": true,
   "skip_h1_title": false,
   "title_cell": "Table of Contents",
   "title_sidebar": "Contents",
   "toc_cell": false,
   "toc_position": {},
   "toc_section_display": true,
   "toc_window_display": false
  }
 },
 "nbformat": 4,
 "nbformat_minor": 2
}
